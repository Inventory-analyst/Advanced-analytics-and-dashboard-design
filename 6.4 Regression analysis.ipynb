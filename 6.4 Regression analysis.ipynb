{
 "cells": [
  {
   "cell_type": "markdown",
   "id": "968a09b5",
   "metadata": {},
   "source": [
    "### Contents\n",
    "#### 1. Importing libraries and data\n",
    "#### 2. Data cleaning\n",
    "#### 3. Data prep for regression analysis\n",
    "#### 4. Regression analysis\n",
    "    Retail price vs sales price\n",
    "    Retail price (220 and higher) vs sale price\n",
    "    Days since release vs sale price\n",
    "    Days since release (first 6 months) vs sale price"
   ]
  },
  {
   "cell_type": "markdown",
   "id": "f66b3451",
   "metadata": {},
   "source": [
    "### 1. Importing libraries and data"
   ]
  },
  {
   "cell_type": "code",
   "execution_count": 1,
   "id": "d18797b7",
   "metadata": {},
   "outputs": [],
   "source": [
    "import pandas as pd\n",
    "import numpy as np\n",
    "import seaborn as sns\n",
    "import matplotlib\n",
    "import matplotlib.pyplot as plt\n",
    "import os\n",
    "import sklearn\n",
    "from sklearn.model_selection import train_test_split \n",
    "from sklearn.linear_model import LinearRegression\n",
    "from sklearn.metrics import mean_squared_error, r2_score"
   ]
  },
  {
   "cell_type": "code",
   "execution_count": 2,
   "id": "c66e0af9",
   "metadata": {},
   "outputs": [],
   "source": [
    "# This option ensures that the graphs you create are displayed within the notebook without the need to \"call\" them specifically.\n",
    "\n",
    "%matplotlib inline"
   ]
  },
  {
   "cell_type": "code",
   "execution_count": 3,
   "id": "73553662",
   "metadata": {},
   "outputs": [],
   "source": [
    "df = pd.read_pickle(r\"C:\\Users\\Hello\\Desktop\\Tech sales data\\02 Data\\Prepared Data/tech_cleaned3.pkl\")"
   ]
  },
  {
   "cell_type": "markdown",
   "id": "30f3774a",
   "metadata": {},
   "source": [
    "### 2. Data Cleaning"
   ]
  },
  {
   "cell_type": "code",
   "execution_count": 4,
   "id": "bc4e85e1",
   "metadata": {},
   "outputs": [
    {
     "data": {
      "text/html": [
       "<div>\n",
       "<style scoped>\n",
       "    .dataframe tbody tr th:only-of-type {\n",
       "        vertical-align: middle;\n",
       "    }\n",
       "\n",
       "    .dataframe tbody tr th {\n",
       "        vertical-align: top;\n",
       "    }\n",
       "\n",
       "    .dataframe thead th {\n",
       "        text-align: right;\n",
       "    }\n",
       "</style>\n",
       "<table border=\"1\" class=\"dataframe\">\n",
       "  <thead>\n",
       "    <tr style=\"text-align: right;\">\n",
       "      <th></th>\n",
       "      <th>Unnamed: 0</th>\n",
       "      <th>Order ID</th>\n",
       "      <th>Product</th>\n",
       "      <th>Quantity Ordered</th>\n",
       "      <th>Price Each</th>\n",
       "      <th>Order_date_&amp;_time</th>\n",
       "      <th>Town</th>\n",
       "      <th>Zip code</th>\n",
       "      <th>State</th>\n",
       "      <th>hour</th>\n",
       "      <th>Date</th>\n",
       "      <th>Pricing Category</th>\n",
       "      <th>Total_units</th>\n",
       "    </tr>\n",
       "  </thead>\n",
       "  <tbody>\n",
       "    <tr>\n",
       "      <th>0</th>\n",
       "      <td>1</td>\n",
       "      <td>141234.0</td>\n",
       "      <td>iPhone</td>\n",
       "      <td>1.0</td>\n",
       "      <td>700.00</td>\n",
       "      <td>01/22/19 21:25</td>\n",
       "      <td>Boston</td>\n",
       "      <td>2215.0</td>\n",
       "      <td>Massachusetts</td>\n",
       "      <td>21.0</td>\n",
       "      <td>2019-01-22</td>\n",
       "      <td>Mid-Priced</td>\n",
       "      <td>22528.0</td>\n",
       "    </tr>\n",
       "    <tr>\n",
       "      <th>1</th>\n",
       "      <td>2</td>\n",
       "      <td>141235.0</td>\n",
       "      <td>Lightning Charging Cable</td>\n",
       "      <td>1.0</td>\n",
       "      <td>14.95</td>\n",
       "      <td>01/28/19 14:15</td>\n",
       "      <td>Portland</td>\n",
       "      <td>97035.0</td>\n",
       "      <td>Oregon</td>\n",
       "      <td>14.0</td>\n",
       "      <td>2019-01-28</td>\n",
       "      <td>Low-priced</td>\n",
       "      <td>11303.0</td>\n",
       "    </tr>\n",
       "    <tr>\n",
       "      <th>2</th>\n",
       "      <td>3</td>\n",
       "      <td>141236.0</td>\n",
       "      <td>Wired Headphones</td>\n",
       "      <td>2.0</td>\n",
       "      <td>11.99</td>\n",
       "      <td>01/17/19 13:33</td>\n",
       "      <td>San Francisco</td>\n",
       "      <td>94016.0</td>\n",
       "      <td>California</td>\n",
       "      <td>13.0</td>\n",
       "      <td>2019-01-17</td>\n",
       "      <td>Low-priced</td>\n",
       "      <td>83528.0</td>\n",
       "    </tr>\n",
       "    <tr>\n",
       "      <th>3</th>\n",
       "      <td>4</td>\n",
       "      <td>141237.0</td>\n",
       "      <td>27in FHD Monitor</td>\n",
       "      <td>1.0</td>\n",
       "      <td>149.99</td>\n",
       "      <td>01/05/2019 20:33</td>\n",
       "      <td>Los Angeles</td>\n",
       "      <td>90001.0</td>\n",
       "      <td>California</td>\n",
       "      <td>20.0</td>\n",
       "      <td>2019-01-05</td>\n",
       "      <td>Low-priced</td>\n",
       "      <td>83528.0</td>\n",
       "    </tr>\n",
       "    <tr>\n",
       "      <th>4</th>\n",
       "      <td>5</td>\n",
       "      <td>141238.0</td>\n",
       "      <td>Wired Headphones</td>\n",
       "      <td>1.0</td>\n",
       "      <td>11.99</td>\n",
       "      <td>01/25/19 11:59</td>\n",
       "      <td>Austin</td>\n",
       "      <td>73301.0</td>\n",
       "      <td>Texas</td>\n",
       "      <td>11.0</td>\n",
       "      <td>2019-01-25</td>\n",
       "      <td>Low-priced</td>\n",
       "      <td>27883.0</td>\n",
       "    </tr>\n",
       "  </tbody>\n",
       "</table>\n",
       "</div>"
      ],
      "text/plain": [
       "   Unnamed: 0  Order ID                   Product  Quantity Ordered  \\\n",
       "0           1  141234.0                    iPhone               1.0   \n",
       "1           2  141235.0  Lightning Charging Cable               1.0   \n",
       "2           3  141236.0          Wired Headphones               2.0   \n",
       "3           4  141237.0          27in FHD Monitor               1.0   \n",
       "4           5  141238.0          Wired Headphones               1.0   \n",
       "\n",
       "   Price Each Order_date_&_time            Town  Zip code          State  \\\n",
       "0      700.00    01/22/19 21:25          Boston    2215.0  Massachusetts   \n",
       "1       14.95    01/28/19 14:15        Portland   97035.0         Oregon   \n",
       "2       11.99    01/17/19 13:33   San Francisco   94016.0     California   \n",
       "3      149.99  01/05/2019 20:33     Los Angeles   90001.0     California   \n",
       "4       11.99    01/25/19 11:59          Austin   73301.0          Texas   \n",
       "\n",
       "   hour        Date Pricing Category  Total_units  \n",
       "0  21.0  2019-01-22       Mid-Priced      22528.0  \n",
       "1  14.0  2019-01-28       Low-priced      11303.0  \n",
       "2  13.0  2019-01-17       Low-priced      83528.0  \n",
       "3  20.0  2019-01-05       Low-priced      83528.0  \n",
       "4  11.0  2019-01-25       Low-priced      27883.0  "
      ]
     },
     "execution_count": 4,
     "metadata": {},
     "output_type": "execute_result"
    }
   ],
   "source": [
    "df.head()"
   ]
  },
  {
   "cell_type": "code",
   "execution_count": 5,
   "id": "35f74af5",
   "metadata": {},
   "outputs": [
    {
     "data": {
      "text/plain": [
       "(185950, 13)"
      ]
     },
     "execution_count": 5,
     "metadata": {},
     "output_type": "execute_result"
    }
   ],
   "source": [
    "df.shape"
   ]
  },
  {
   "cell_type": "code",
   "execution_count": 6,
   "id": "c8f48ae0",
   "metadata": {},
   "outputs": [
    {
     "data": {
      "text/plain": [
       "Unnamed: 0           0\n",
       "Order ID             0\n",
       "Product              0\n",
       "Quantity Ordered     0\n",
       "Price Each           0\n",
       "Order_date_&_time    0\n",
       "Town                 0\n",
       "Zip code             0\n",
       "State                0\n",
       "hour                 0\n",
       "Date                 0\n",
       "Pricing Category     0\n",
       "Total_units          0\n",
       "dtype: int64"
      ]
     },
     "execution_count": 6,
     "metadata": {},
     "output_type": "execute_result"
    }
   ],
   "source": [
    "# Check for missing values\n",
    "df.isnull().sum()"
   ]
  },
  {
   "cell_type": "code",
   "execution_count": 7,
   "id": "efc647a9",
   "metadata": {},
   "outputs": [
    {
     "name": "stderr",
     "output_type": "stream",
     "text": [
      "C:\\Users\\Hello\\anaconda3\\lib\\site-packages\\seaborn\\distributions.py:2619: FutureWarning: `distplot` is a deprecated function and will be removed in a future version. Please adapt your code to use either `displot` (a figure-level function with similar flexibility) or `histplot` (an axes-level function for histograms).\n",
      "  warnings.warn(msg, FutureWarning)\n"
     ]
    },
    {
     "data": {
      "text/plain": [
       "<AxesSubplot:xlabel='Price Each', ylabel='Density'>"
      ]
     },
     "execution_count": 7,
     "metadata": {},
     "output_type": "execute_result"
    },
    {
     "data": {
      "image/png": "[encoded data removed]",
      "text/plain": [
       "<Figure size 432x288 with 1 Axes>"
      ]
     },
     "metadata": {
      "needs_background": "light"
     },
     "output_type": "display_data"
    }
   ],
   "source": [
    "# Check for extreme values\n",
    "sns.distplot(df['Price Each'],bins = 25, kde = True)"
   ]
  },
  {
   "cell_type": "code",
   "execution_count": 8,
   "id": "a978dd75",
   "metadata": {},
   "outputs": [
    {
     "data": {
      "text/plain": [
       "184.39973476700638"
      ]
     },
     "execution_count": 8,
     "metadata": {},
     "output_type": "execute_result"
    }
   ],
   "source": [
    "# Check Mean\n",
    "df['Price Each'].mean()"
   ]
  },
  {
   "cell_type": "code",
   "execution_count": 9,
   "id": "69e41b6b",
   "metadata": {},
   "outputs": [
    {
     "data": {
      "text/plain": [
       "14.95"
      ]
     },
     "execution_count": 9,
     "metadata": {},
     "output_type": "execute_result"
    }
   ],
   "source": [
    "# Check median\n",
    "df['Price Each'].median()"
   ]
  },
  {
   "cell_type": "code",
   "execution_count": 10,
   "id": "969bcdfe",
   "metadata": {},
   "outputs": [
    {
     "data": {
      "text/plain": [
       "1700.0"
      ]
     },
     "execution_count": 10,
     "metadata": {},
     "output_type": "execute_result"
    }
   ],
   "source": [
    "# Check max\n",
    "df['Price Each'].max()"
   ]
  },
  {
   "cell_type": "code",
   "execution_count": 11,
   "id": "d9e6a5b7",
   "metadata": {},
   "outputs": [
    {
     "data": {
      "text/plain": [
       "2.99"
      ]
     },
     "execution_count": 11,
     "metadata": {},
     "output_type": "execute_result"
    }
   ],
   "source": [
    "# Check min\n",
    "df['Price Each'].min()"
   ]
  },
  {
   "cell_type": "code",
   "execution_count": 12,
   "id": "3283e9fa",
   "metadata": {},
   "outputs": [
    {
     "data": {
      "text/plain": [
       "1697.01"
      ]
     },
     "execution_count": 12,
     "metadata": {},
     "output_type": "execute_result"
    }
   ],
   "source": [
    "df['Price Each'].max()-df['Price Each'].min()"
   ]
  },
  {
   "cell_type": "code",
   "execution_count": 13,
   "id": "caf32c39",
   "metadata": {},
   "outputs": [
    {
     "data": {
      "text/html": [
       "<div>\n",
       "<style scoped>\n",
       "    .dataframe tbody tr th:only-of-type {\n",
       "        vertical-align: middle;\n",
       "    }\n",
       "\n",
       "    .dataframe tbody tr th {\n",
       "        vertical-align: top;\n",
       "    }\n",
       "\n",
       "    .dataframe thead th {\n",
       "        text-align: right;\n",
       "    }\n",
       "</style>\n",
       "<table border=\"1\" class=\"dataframe\">\n",
       "  <thead>\n",
       "    <tr style=\"text-align: right;\">\n",
       "      <th></th>\n",
       "      <th>Unnamed: 0</th>\n",
       "      <th>Order ID</th>\n",
       "      <th>Quantity Ordered</th>\n",
       "      <th>Price Each</th>\n",
       "      <th>Zip code</th>\n",
       "      <th>hour</th>\n",
       "      <th>Total_units</th>\n",
       "    </tr>\n",
       "  </thead>\n",
       "  <tbody>\n",
       "    <tr>\n",
       "      <th>count</th>\n",
       "      <td>185950.000000</td>\n",
       "      <td>185950.000000</td>\n",
       "      <td>185950.000000</td>\n",
       "      <td>185950.000000</td>\n",
       "      <td>185950.000000</td>\n",
       "      <td>185950.000000</td>\n",
       "      <td>185950.000000</td>\n",
       "    </tr>\n",
       "    <tr>\n",
       "      <th>mean</th>\n",
       "      <td>92975.500000</td>\n",
       "      <td>230417.569379</td>\n",
       "      <td>1.124383</td>\n",
       "      <td>184.399735</td>\n",
       "      <td>63877.518935</td>\n",
       "      <td>14.413305</td>\n",
       "      <td>46535.870573</td>\n",
       "    </tr>\n",
       "    <tr>\n",
       "      <th>std</th>\n",
       "      <td>53679.285615</td>\n",
       "      <td>51512.737110</td>\n",
       "      <td>0.442793</td>\n",
       "      <td>332.731330</td>\n",
       "      <td>37776.308300</td>\n",
       "      <td>5.423416</td>\n",
       "      <td>30601.836118</td>\n",
       "    </tr>\n",
       "    <tr>\n",
       "      <th>min</th>\n",
       "      <td>1.000000</td>\n",
       "      <td>141234.000000</td>\n",
       "      <td>1.000000</td>\n",
       "      <td>2.990000</td>\n",
       "      <td>2215.000000</td>\n",
       "      <td>0.000000</td>\n",
       "      <td>2750.000000</td>\n",
       "    </tr>\n",
       "    <tr>\n",
       "      <th>25%</th>\n",
       "      <td>46488.250000</td>\n",
       "      <td>185831.250000</td>\n",
       "      <td>1.000000</td>\n",
       "      <td>11.950000</td>\n",
       "      <td>10001.000000</td>\n",
       "      <td>11.000000</td>\n",
       "      <td>22528.000000</td>\n",
       "    </tr>\n",
       "    <tr>\n",
       "      <th>50%</th>\n",
       "      <td>92975.500000</td>\n",
       "      <td>230367.500000</td>\n",
       "      <td>1.000000</td>\n",
       "      <td>14.950000</td>\n",
       "      <td>90001.000000</td>\n",
       "      <td>15.000000</td>\n",
       "      <td>27932.000000</td>\n",
       "    </tr>\n",
       "    <tr>\n",
       "      <th>75%</th>\n",
       "      <td>139462.750000</td>\n",
       "      <td>275035.750000</td>\n",
       "      <td>1.000000</td>\n",
       "      <td>150.000000</td>\n",
       "      <td>94016.000000</td>\n",
       "      <td>19.000000</td>\n",
       "      <td>83528.000000</td>\n",
       "    </tr>\n",
       "    <tr>\n",
       "      <th>max</th>\n",
       "      <td>185950.000000</td>\n",
       "      <td>319670.000000</td>\n",
       "      <td>9.000000</td>\n",
       "      <td>1700.000000</td>\n",
       "      <td>98101.000000</td>\n",
       "      <td>23.000000</td>\n",
       "      <td>83528.000000</td>\n",
       "    </tr>\n",
       "  </tbody>\n",
       "</table>\n",
       "</div>"
      ],
      "text/plain": [
       "          Unnamed: 0       Order ID  Quantity Ordered     Price Each  \\\n",
       "count  185950.000000  185950.000000     185950.000000  185950.000000   \n",
       "mean    92975.500000  230417.569379          1.124383     184.399735   \n",
       "std     53679.285615   51512.737110          0.442793     332.731330   \n",
       "min         1.000000  141234.000000          1.000000       2.990000   \n",
       "25%     46488.250000  185831.250000          1.000000      11.950000   \n",
       "50%     92975.500000  230367.500000          1.000000      14.950000   \n",
       "75%    139462.750000  275035.750000          1.000000     150.000000   \n",
       "max    185950.000000  319670.000000          9.000000    1700.000000   \n",
       "\n",
       "            Zip code           hour    Total_units  \n",
       "count  185950.000000  185950.000000  185950.000000  \n",
       "mean    63877.518935      14.413305   46535.870573  \n",
       "std     37776.308300       5.423416   30601.836118  \n",
       "min      2215.000000       0.000000    2750.000000  \n",
       "25%     10001.000000      11.000000   22528.000000  \n",
       "50%     90001.000000      15.000000   27932.000000  \n",
       "75%     94016.000000      19.000000   83528.000000  \n",
       "max     98101.000000      23.000000   83528.000000  "
      ]
     },
     "execution_count": 13,
     "metadata": {},
     "output_type": "execute_result"
    }
   ],
   "source": [
    "df.describe()"
   ]
  },
  {
   "cell_type": "markdown",
   "id": "5335fa7b",
   "metadata": {},
   "source": [
    "### Data prep for regression analysis"
   ]
  },
  {
   "cell_type": "raw",
   "id": "ce5eca3c",
   "metadata": {},
   "source": []
  },
  {
   "cell_type": "markdown",
   "id": "43fbe40e",
   "metadata": {},
   "source": [
    "#### Hypothesis 1: More items will be ordered if the unit price is low."
   ]
  },
  {
   "cell_type": "code",
   "execution_count": 14,
   "id": "32b42824",
   "metadata": {},
   "outputs": [
    {
     "data": {
      "image/png": "[encoded data removed]",
      "text/plain": [
       "<Figure size 432x288 with 1 Axes>"
      ]
     },
     "metadata": {
      "needs_background": "light"
     },
     "output_type": "display_data"
    }
   ],
   "source": [
    "# Create a scatterplot using matplotlib for another look at how the chosen variables plot against each other.\n",
    "\n",
    "df.plot(x = 'Quantity Ordered', y='Price Each',style='o') # The style option creates a scatterplot; without it, we only have lines.\n",
    "plt.title('Price vs units ordered')  \n",
    "plt.xlabel('Units ordered')  \n",
    "plt.ylabel('Price Each')  \n",
    "plt.show()"
   ]
  },
  {
   "cell_type": "code",
   "execution_count": 15,
   "id": "a60b7073",
   "metadata": {},
   "outputs": [],
   "source": [
    "# Reshape the variables into NumPy arrays and put them into separate objects.\n",
    "X = df['Quantity Ordered'].values.reshape(-1,1)\n",
    "y = df['Price Each'].values.reshape(-1,1)"
   ]
  },
  {
   "cell_type": "code",
   "execution_count": 16,
   "id": "1eecdaef",
   "metadata": {},
   "outputs": [
    {
     "data": {
      "text/plain": [
       "array([[1.],\n",
       "       [1.],\n",
       "       [2.],\n",
       "       ...,\n",
       "       [1.],\n",
       "       [1.],\n",
       "       [1.]])"
      ]
     },
     "execution_count": 16,
     "metadata": {},
     "output_type": "execute_result"
    }
   ],
   "source": [
    "X"
   ]
  },
  {
   "cell_type": "code",
   "execution_count": 17,
   "id": "d11fc148",
   "metadata": {},
   "outputs": [
    {
     "data": {
      "text/plain": [
       "array([[700.  ],\n",
       "       [ 14.95],\n",
       "       [ 11.99],\n",
       "       ...,\n",
       "       [400.  ],\n",
       "       [ 11.99],\n",
       "       [ 99.99]])"
      ]
     },
     "execution_count": 17,
     "metadata": {},
     "output_type": "execute_result"
    }
   ],
   "source": [
    "y"
   ]
  },
  {
   "cell_type": "code",
   "execution_count": 18,
   "id": "132ed775",
   "metadata": {},
   "outputs": [],
   "source": [
    "# Split data into a training set and a test set.  Using test_train_split\n",
    "X_train,X_test,y_train,y_test = train_test_split(X,y,test_size = 0.3,random_state = 0)\n"
   ]
  },
  {
   "cell_type": "markdown",
   "id": "e8712f2e",
   "metadata": {},
   "source": [
    "### 4. Regression Analysis"
   ]
  },
  {
   "cell_type": "code",
   "execution_count": 19,
   "id": "b6d5f999",
   "metadata": {},
   "outputs": [],
   "source": [
    "# Create regression object\n",
    "regression = LinearRegression()"
   ]
  },
  {
   "cell_type": "code",
   "execution_count": 20,
   "id": "99dbc3f3",
   "metadata": {},
   "outputs": [
    {
     "data": {
      "text/plain": [
       "LinearRegression()"
      ]
     },
     "execution_count": 20,
     "metadata": {},
     "output_type": "execute_result"
    }
   ],
   "source": [
    "# Fit the regression to the training set of each variable.  This trains the model.\n",
    "regression.fit(X_train, y_train)"
   ]
  },
  {
   "cell_type": "code",
   "execution_count": 21,
   "id": "767f93e8",
   "metadata": {},
   "outputs": [],
   "source": [
    "# Apply model to x_test data to predict y values\n",
    "y_predicted = regression.predict(X_test)"
   ]
  },
  {
   "cell_type": "code",
   "execution_count": 22,
   "id": "b062282e",
   "metadata": {},
   "outputs": [
    {
     "data": {
      "image/png": "[encoded data removed]",
      "text/plain": [
       "<Figure size 432x288 with 1 Axes>"
      ]
     },
     "metadata": {
      "needs_background": "light"
     },
     "output_type": "display_data"
    }
   ],
   "source": [
    "# Create a plot that shows the regression line from the model on the test set.\n",
    "plot_test = plt\n",
    "plot_test.scatter(X_test, y_test, color='gray', s = 15)\n",
    "plot_test.plot(X_test, y_predicted, color='red', linewidth =3)\n",
    "plot_test.title('Price vs units ordered (Test set)')\n",
    "plot_test.xlabel('Units Ordered')\n",
    "plot_test.ylabel('Price')\n",
    "plot_test.show()"
   ]
  },
  {
   "cell_type": "markdown",
   "id": "7f4ba9b3",
   "metadata": {},
   "source": [
    "#### The line does not fit the data very well.  This can be seen by the distance of the data points to the line. Indicating we do not have a linear relationship between the variables with only a slight corilation between 3 and 4 units"
   ]
  },
  {
   "cell_type": "code",
   "execution_count": 23,
   "id": "10681f4a",
   "metadata": {},
   "outputs": [],
   "source": [
    "# Check the slope, MSE and R2 score.\n",
    "# Create objects that contain the model summary statistics.\n",
    "rmse = mean_squared_error(y_test, y_predicted)\n",
    "r2 = r2_score(y_test, y_predicted)"
   ]
  },
  {
   "cell_type": "code",
   "execution_count": 24,
   "id": "4c109f2c",
   "metadata": {},
   "outputs": [
    {
     "name": "stdout",
     "output_type": "stream",
     "text": [
      "Slope: [[-110.44997937]]\n",
      "Mean squared error:  108699.9100536253\n",
      "R2 score:  0.02224243892473199\n"
     ]
    }
   ],
   "source": [
    "# Print the model summary statistics. This is where you evaluate the performance of the model.\n",
    "\n",
    "print('Slope:' ,regression.coef_)\n",
    "print('Mean squared error: ', rmse)\n",
    "print('R2 score: ', r2)"
   ]
  },
  {
   "cell_type": "code",
   "execution_count": 25,
   "id": "f6799212",
   "metadata": {},
   "outputs": [
    {
     "data": {
      "text/html": [
       "<div>\n",
       "<style scoped>\n",
       "    .dataframe tbody tr th:only-of-type {\n",
       "        vertical-align: middle;\n",
       "    }\n",
       "\n",
       "    .dataframe tbody tr th {\n",
       "        vertical-align: top;\n",
       "    }\n",
       "\n",
       "    .dataframe thead th {\n",
       "        text-align: right;\n",
       "    }\n",
       "</style>\n",
       "<table border=\"1\" class=\"dataframe\">\n",
       "  <thead>\n",
       "    <tr style=\"text-align: right;\">\n",
       "      <th></th>\n",
       "      <th>Actual</th>\n",
       "      <th>Predicted</th>\n",
       "    </tr>\n",
       "  </thead>\n",
       "  <tbody>\n",
       "    <tr>\n",
       "      <th>0</th>\n",
       "      <td>379.99</td>\n",
       "      <td>197.588359</td>\n",
       "    </tr>\n",
       "    <tr>\n",
       "      <th>1</th>\n",
       "      <td>389.99</td>\n",
       "      <td>197.588359</td>\n",
       "    </tr>\n",
       "    <tr>\n",
       "      <th>2</th>\n",
       "      <td>11.99</td>\n",
       "      <td>197.588359</td>\n",
       "    </tr>\n",
       "    <tr>\n",
       "      <th>3</th>\n",
       "      <td>3.84</td>\n",
       "      <td>197.588359</td>\n",
       "    </tr>\n",
       "    <tr>\n",
       "      <th>4</th>\n",
       "      <td>99.99</td>\n",
       "      <td>197.588359</td>\n",
       "    </tr>\n",
       "    <tr>\n",
       "      <th>5</th>\n",
       "      <td>99.99</td>\n",
       "      <td>197.588359</td>\n",
       "    </tr>\n",
       "    <tr>\n",
       "      <th>6</th>\n",
       "      <td>11.95</td>\n",
       "      <td>197.588359</td>\n",
       "    </tr>\n",
       "    <tr>\n",
       "      <th>7</th>\n",
       "      <td>300.00</td>\n",
       "      <td>197.588359</td>\n",
       "    </tr>\n",
       "    <tr>\n",
       "      <th>8</th>\n",
       "      <td>150.00</td>\n",
       "      <td>197.588359</td>\n",
       "    </tr>\n",
       "    <tr>\n",
       "      <th>9</th>\n",
       "      <td>11.95</td>\n",
       "      <td>197.588359</td>\n",
       "    </tr>\n",
       "    <tr>\n",
       "      <th>10</th>\n",
       "      <td>2.99</td>\n",
       "      <td>197.588359</td>\n",
       "    </tr>\n",
       "    <tr>\n",
       "      <th>11</th>\n",
       "      <td>11.99</td>\n",
       "      <td>197.588359</td>\n",
       "    </tr>\n",
       "    <tr>\n",
       "      <th>12</th>\n",
       "      <td>2.99</td>\n",
       "      <td>197.588359</td>\n",
       "    </tr>\n",
       "    <tr>\n",
       "      <th>13</th>\n",
       "      <td>999.99</td>\n",
       "      <td>197.588359</td>\n",
       "    </tr>\n",
       "    <tr>\n",
       "      <th>14</th>\n",
       "      <td>11.95</td>\n",
       "      <td>197.588359</td>\n",
       "    </tr>\n",
       "    <tr>\n",
       "      <th>15</th>\n",
       "      <td>389.99</td>\n",
       "      <td>197.588359</td>\n",
       "    </tr>\n",
       "    <tr>\n",
       "      <th>16</th>\n",
       "      <td>2.99</td>\n",
       "      <td>197.588359</td>\n",
       "    </tr>\n",
       "    <tr>\n",
       "      <th>17</th>\n",
       "      <td>150.00</td>\n",
       "      <td>197.588359</td>\n",
       "    </tr>\n",
       "    <tr>\n",
       "      <th>18</th>\n",
       "      <td>14.95</td>\n",
       "      <td>197.588359</td>\n",
       "    </tr>\n",
       "    <tr>\n",
       "      <th>19</th>\n",
       "      <td>99.99</td>\n",
       "      <td>197.588359</td>\n",
       "    </tr>\n",
       "    <tr>\n",
       "      <th>20</th>\n",
       "      <td>3.84</td>\n",
       "      <td>197.588359</td>\n",
       "    </tr>\n",
       "    <tr>\n",
       "      <th>21</th>\n",
       "      <td>600.00</td>\n",
       "      <td>197.588359</td>\n",
       "    </tr>\n",
       "    <tr>\n",
       "      <th>22</th>\n",
       "      <td>3.84</td>\n",
       "      <td>197.588359</td>\n",
       "    </tr>\n",
       "    <tr>\n",
       "      <th>23</th>\n",
       "      <td>99.99</td>\n",
       "      <td>197.588359</td>\n",
       "    </tr>\n",
       "    <tr>\n",
       "      <th>24</th>\n",
       "      <td>14.95</td>\n",
       "      <td>197.588359</td>\n",
       "    </tr>\n",
       "    <tr>\n",
       "      <th>25</th>\n",
       "      <td>149.99</td>\n",
       "      <td>197.588359</td>\n",
       "    </tr>\n",
       "    <tr>\n",
       "      <th>26</th>\n",
       "      <td>14.95</td>\n",
       "      <td>197.588359</td>\n",
       "    </tr>\n",
       "    <tr>\n",
       "      <th>27</th>\n",
       "      <td>99.99</td>\n",
       "      <td>197.588359</td>\n",
       "    </tr>\n",
       "    <tr>\n",
       "      <th>28</th>\n",
       "      <td>400.00</td>\n",
       "      <td>197.588359</td>\n",
       "    </tr>\n",
       "    <tr>\n",
       "      <th>29</th>\n",
       "      <td>389.99</td>\n",
       "      <td>197.588359</td>\n",
       "    </tr>\n",
       "  </tbody>\n",
       "</table>\n",
       "</div>"
      ],
      "text/plain": [
       "    Actual   Predicted\n",
       "0   379.99  197.588359\n",
       "1   389.99  197.588359\n",
       "2    11.99  197.588359\n",
       "3     3.84  197.588359\n",
       "4    99.99  197.588359\n",
       "5    99.99  197.588359\n",
       "6    11.95  197.588359\n",
       "7   300.00  197.588359\n",
       "8   150.00  197.588359\n",
       "9    11.95  197.588359\n",
       "10    2.99  197.588359\n",
       "11   11.99  197.588359\n",
       "12    2.99  197.588359\n",
       "13  999.99  197.588359\n",
       "14   11.95  197.588359\n",
       "15  389.99  197.588359\n",
       "16    2.99  197.588359\n",
       "17  150.00  197.588359\n",
       "18   14.95  197.588359\n",
       "19   99.99  197.588359\n",
       "20    3.84  197.588359\n",
       "21  600.00  197.588359\n",
       "22    3.84  197.588359\n",
       "23   99.99  197.588359\n",
       "24   14.95  197.588359\n",
       "25  149.99  197.588359\n",
       "26   14.95  197.588359\n",
       "27   99.99  197.588359\n",
       "28  400.00  197.588359\n",
       "29  389.99  197.588359"
      ]
     },
     "execution_count": 25,
     "metadata": {},
     "output_type": "execute_result"
    }
   ],
   "source": [
    "# Create a dataframe comparing the actual and predicted values of y.\n",
    "\n",
    "data = pd.DataFrame({'Actual': y_test.flatten(), 'Predicted': y_predicted.flatten()})\n",
    "data.head(30)"
   ]
  },
  {
   "cell_type": "markdown",
   "id": "95954058",
   "metadata": {},
   "source": [
    "#### The summary statistics of the model confirm that the model is inaccurate.  Which can also be seen by the variance in the actual vs prdicted values.  An R2 score of 0.022242 indicates a very poor fit and the large MSE also confirms this.  The slope of --110.44997937 shows that as price increases quantity ordered drops."
   ]
  },
  {
   "cell_type": "markdown",
   "id": "9cdc2a78",
   "metadata": {},
   "source": [
    "#### Compare how the regression fits the training set"
   ]
  },
  {
   "cell_type": "code",
   "execution_count": 26,
   "id": "1307c174",
   "metadata": {},
   "outputs": [],
   "source": [
    "# Predict on the training set\n",
    "\n",
    "y_predicted_train = regression.predict(X_train) # This is predicting X_train!"
   ]
  },
  {
   "cell_type": "code",
   "execution_count": 27,
   "id": "f53504ab",
   "metadata": {},
   "outputs": [],
   "source": [
    "rmse = mean_squared_error(y_train, y_predicted_train)\n",
    "r2 = r2_score(y_train, y_predicted_train)"
   ]
  },
  {
   "cell_type": "code",
   "execution_count": 28,
   "id": "b8c8c27c",
   "metadata": {},
   "outputs": [
    {
     "name": "stdout",
     "output_type": "stream",
     "text": [
      "Slope: [[-110.44997937]]\n",
      "Mean squared error:  108094.4861649367\n",
      "R2 score:  0.021856326305048634\n"
     ]
    }
   ],
   "source": [
    "print('Slope:' ,regression.coef_)\n",
    "print('Mean squared error: ', rmse)\n",
    "print('R2 score: ', r2)"
   ]
  },
  {
   "cell_type": "code",
   "execution_count": 29,
   "id": "f902b196",
   "metadata": {},
   "outputs": [
    {
     "data": {
      "image/png": "[encoded data removed]",
      "text/plain": [
       "<Figure size 432x288 with 1 Axes>"
      ]
     },
     "metadata": {
      "needs_background": "light"
     },
     "output_type": "display_data"
    }
   ],
   "source": [
    "plot_test = plt\n",
    "plot_test.scatter(X_train, y_train, color='green', s = 15)\n",
    "plot_test.plot(X_train, y_predicted_train, color='red', linewidth =3)\n",
    "plot_test.title('Price vs units ordered (Train set)')\n",
    "plot_test.xlabel('Units Ordered')\n",
    "plot_test.ylabel('Price')\n",
    "plot_test.show()"
   ]
  },
  {
   "cell_type": "markdown",
   "id": "5620113e",
   "metadata": {},
   "source": [
    "#### The models outcome on the training set is very similar to that on the test set.  With the MSE being even larger on the train set.  Confirming that this is not a good model to use.  This proves that the original retail price is not the driving factor of sale price. "
   ]
  },
  {
   "cell_type": "markdown",
   "id": "9d077c5a",
   "metadata": {},
   "source": [
    "### Regression on df of quantity ordered 4 and higher"
   ]
  },
  {
   "cell_type": "code",
   "execution_count": 30,
   "id": "7ce4d76d",
   "metadata": {
    "scrolled": true
   },
   "outputs": [
    {
     "data": {
      "text/html": [
       "<div>\n",
       "<style scoped>\n",
       "    .dataframe tbody tr th:only-of-type {\n",
       "        vertical-align: middle;\n",
       "    }\n",
       "\n",
       "    .dataframe tbody tr th {\n",
       "        vertical-align: top;\n",
       "    }\n",
       "\n",
       "    .dataframe thead th {\n",
       "        text-align: right;\n",
       "    }\n",
       "</style>\n",
       "<table border=\"1\" class=\"dataframe\">\n",
       "  <thead>\n",
       "    <tr style=\"text-align: right;\">\n",
       "      <th></th>\n",
       "      <th>Unnamed: 0</th>\n",
       "      <th>Order ID</th>\n",
       "      <th>Product</th>\n",
       "      <th>Quantity Ordered</th>\n",
       "      <th>Price Each</th>\n",
       "      <th>Order_date_&amp;_time</th>\n",
       "      <th>Town</th>\n",
       "      <th>Zip code</th>\n",
       "      <th>State</th>\n",
       "      <th>hour</th>\n",
       "      <th>Date</th>\n",
       "      <th>Pricing Category</th>\n",
       "      <th>Total_units</th>\n",
       "    </tr>\n",
       "  </thead>\n",
       "  <tbody>\n",
       "    <tr>\n",
       "      <th>103</th>\n",
       "      <td>104</td>\n",
       "      <td>141335.0</td>\n",
       "      <td>AAA Batteries (4-pack)</td>\n",
       "      <td>5.0</td>\n",
       "      <td>2.99</td>\n",
       "      <td>01/12/2019 18:16</td>\n",
       "      <td>Los Angeles</td>\n",
       "      <td>90001.0</td>\n",
       "      <td>California</td>\n",
       "      <td>18.0</td>\n",
       "      <td>2019-01-12</td>\n",
       "      <td>Low-priced</td>\n",
       "      <td>83528.0</td>\n",
       "    </tr>\n",
       "    <tr>\n",
       "      <th>401</th>\n",
       "      <td>402</td>\n",
       "      <td>141625.0</td>\n",
       "      <td>AAA Batteries (4-pack)</td>\n",
       "      <td>4.0</td>\n",
       "      <td>2.99</td>\n",
       "      <td>01/29/19 08:48</td>\n",
       "      <td>Boston</td>\n",
       "      <td>2215.0</td>\n",
       "      <td>Massachusetts</td>\n",
       "      <td>8.0</td>\n",
       "      <td>2019-01-29</td>\n",
       "      <td>Low-priced</td>\n",
       "      <td>22528.0</td>\n",
       "    </tr>\n",
       "    <tr>\n",
       "      <th>664</th>\n",
       "      <td>665</td>\n",
       "      <td>141881.0</td>\n",
       "      <td>AAA Batteries (4-pack)</td>\n",
       "      <td>7.0</td>\n",
       "      <td>2.99</td>\n",
       "      <td>01/19/19 16:36</td>\n",
       "      <td>Seattle</td>\n",
       "      <td>98101.0</td>\n",
       "      <td>Washington</td>\n",
       "      <td>16.0</td>\n",
       "      <td>2019-01-19</td>\n",
       "      <td>Low-priced</td>\n",
       "      <td>16553.0</td>\n",
       "    </tr>\n",
       "    <tr>\n",
       "      <th>953</th>\n",
       "      <td>954</td>\n",
       "      <td>142146.0</td>\n",
       "      <td>AAA Batteries (4-pack)</td>\n",
       "      <td>4.0</td>\n",
       "      <td>2.99</td>\n",
       "      <td>01/02/2019 17:39</td>\n",
       "      <td>New York City</td>\n",
       "      <td>10001.0</td>\n",
       "      <td>New York</td>\n",
       "      <td>17.0</td>\n",
       "      <td>2019-01-02</td>\n",
       "      <td>Low-priced</td>\n",
       "      <td>27932.0</td>\n",
       "    </tr>\n",
       "    <tr>\n",
       "      <th>976</th>\n",
       "      <td>977</td>\n",
       "      <td>142169.0</td>\n",
       "      <td>AAA Batteries (4-pack)</td>\n",
       "      <td>4.0</td>\n",
       "      <td>2.99</td>\n",
       "      <td>01/15/19 21:39</td>\n",
       "      <td>New York City</td>\n",
       "      <td>10001.0</td>\n",
       "      <td>New York</td>\n",
       "      <td>21.0</td>\n",
       "      <td>2019-01-15</td>\n",
       "      <td>Low-priced</td>\n",
       "      <td>27932.0</td>\n",
       "    </tr>\n",
       "    <tr>\n",
       "      <th>...</th>\n",
       "      <td>...</td>\n",
       "      <td>...</td>\n",
       "      <td>...</td>\n",
       "      <td>...</td>\n",
       "      <td>...</td>\n",
       "      <td>...</td>\n",
       "      <td>...</td>\n",
       "      <td>...</td>\n",
       "      <td>...</td>\n",
       "      <td>...</td>\n",
       "      <td>...</td>\n",
       "      <td>...</td>\n",
       "      <td>...</td>\n",
       "    </tr>\n",
       "    <tr>\n",
       "      <th>185377</th>\n",
       "      <td>185378</td>\n",
       "      <td>319117.0</td>\n",
       "      <td>AAA Batteries (4-pack)</td>\n",
       "      <td>4.0</td>\n",
       "      <td>2.99</td>\n",
       "      <td>12/05/2019 20:30</td>\n",
       "      <td>Los Angeles</td>\n",
       "      <td>90001.0</td>\n",
       "      <td>California</td>\n",
       "      <td>20.0</td>\n",
       "      <td>2019-12-05</td>\n",
       "      <td>Low-priced</td>\n",
       "      <td>83528.0</td>\n",
       "    </tr>\n",
       "    <tr>\n",
       "      <th>185647</th>\n",
       "      <td>185648</td>\n",
       "      <td>319376.0</td>\n",
       "      <td>AAA Batteries (4-pack)</td>\n",
       "      <td>4.0</td>\n",
       "      <td>2.99</td>\n",
       "      <td>12/06/2019 21:39</td>\n",
       "      <td>Dallas</td>\n",
       "      <td>75001.0</td>\n",
       "      <td>Texas</td>\n",
       "      <td>21.0</td>\n",
       "      <td>2019-12-06</td>\n",
       "      <td>Low-priced</td>\n",
       "      <td>27883.0</td>\n",
       "    </tr>\n",
       "    <tr>\n",
       "      <th>185653</th>\n",
       "      <td>185654</td>\n",
       "      <td>319382.0</td>\n",
       "      <td>AAA Batteries (4-pack)</td>\n",
       "      <td>4.0</td>\n",
       "      <td>2.99</td>\n",
       "      <td>12/30/19 06:51</td>\n",
       "      <td>Los Angeles</td>\n",
       "      <td>90001.0</td>\n",
       "      <td>California</td>\n",
       "      <td>6.0</td>\n",
       "      <td>2019-12-30</td>\n",
       "      <td>Low-priced</td>\n",
       "      <td>83528.0</td>\n",
       "    </tr>\n",
       "    <tr>\n",
       "      <th>185790</th>\n",
       "      <td>185791</td>\n",
       "      <td>319517.0</td>\n",
       "      <td>AA Batteries (4-pack)</td>\n",
       "      <td>5.0</td>\n",
       "      <td>3.84</td>\n",
       "      <td>12/28/19 13:05</td>\n",
       "      <td>Atlanta</td>\n",
       "      <td>30301.0</td>\n",
       "      <td>Georgia</td>\n",
       "      <td>13.0</td>\n",
       "      <td>2019-12-28</td>\n",
       "      <td>Low-priced</td>\n",
       "      <td>16602.0</td>\n",
       "    </tr>\n",
       "    <tr>\n",
       "      <th>185801</th>\n",
       "      <td>185802</td>\n",
       "      <td>319528.0</td>\n",
       "      <td>AAA Batteries (4-pack)</td>\n",
       "      <td>4.0</td>\n",
       "      <td>2.99</td>\n",
       "      <td>12/27/19 08:44</td>\n",
       "      <td>Atlanta</td>\n",
       "      <td>30301.0</td>\n",
       "      <td>Georgia</td>\n",
       "      <td>8.0</td>\n",
       "      <td>2019-12-27</td>\n",
       "      <td>Low-priced</td>\n",
       "      <td>16602.0</td>\n",
       "    </tr>\n",
       "  </tbody>\n",
       "</table>\n",
       "<p>1154 rows × 13 columns</p>\n",
       "</div>"
      ],
      "text/plain": [
       "        Unnamed: 0  Order ID                 Product  Quantity Ordered  \\\n",
       "103            104  141335.0  AAA Batteries (4-pack)               5.0   \n",
       "401            402  141625.0  AAA Batteries (4-pack)               4.0   \n",
       "664            665  141881.0  AAA Batteries (4-pack)               7.0   \n",
       "953            954  142146.0  AAA Batteries (4-pack)               4.0   \n",
       "976            977  142169.0  AAA Batteries (4-pack)               4.0   \n",
       "...            ...       ...                     ...               ...   \n",
       "185377      185378  319117.0  AAA Batteries (4-pack)               4.0   \n",
       "185647      185648  319376.0  AAA Batteries (4-pack)               4.0   \n",
       "185653      185654  319382.0  AAA Batteries (4-pack)               4.0   \n",
       "185790      185791  319517.0   AA Batteries (4-pack)               5.0   \n",
       "185801      185802  319528.0  AAA Batteries (4-pack)               4.0   \n",
       "\n",
       "        Price Each Order_date_&_time            Town  Zip code          State  \\\n",
       "103           2.99  01/12/2019 18:16     Los Angeles   90001.0     California   \n",
       "401           2.99    01/29/19 08:48          Boston    2215.0  Massachusetts   \n",
       "664           2.99    01/19/19 16:36         Seattle   98101.0     Washington   \n",
       "953           2.99  01/02/2019 17:39   New York City   10001.0       New York   \n",
       "976           2.99    01/15/19 21:39   New York City   10001.0       New York   \n",
       "...            ...               ...             ...       ...            ...   \n",
       "185377        2.99  12/05/2019 20:30     Los Angeles   90001.0     California   \n",
       "185647        2.99  12/06/2019 21:39          Dallas   75001.0          Texas   \n",
       "185653        2.99    12/30/19 06:51     Los Angeles   90001.0     California   \n",
       "185790        3.84    12/28/19 13:05         Atlanta   30301.0        Georgia   \n",
       "185801        2.99    12/27/19 08:44         Atlanta   30301.0        Georgia   \n",
       "\n",
       "        hour        Date Pricing Category  Total_units  \n",
       "103     18.0  2019-01-12       Low-priced      83528.0  \n",
       "401      8.0  2019-01-29       Low-priced      22528.0  \n",
       "664     16.0  2019-01-19       Low-priced      16553.0  \n",
       "953     17.0  2019-01-02       Low-priced      27932.0  \n",
       "976     21.0  2019-01-15       Low-priced      27932.0  \n",
       "...      ...         ...              ...          ...  \n",
       "185377  20.0  2019-12-05       Low-priced      83528.0  \n",
       "185647  21.0  2019-12-06       Low-priced      27883.0  \n",
       "185653   6.0  2019-12-30       Low-priced      83528.0  \n",
       "185790  13.0  2019-12-28       Low-priced      16602.0  \n",
       "185801   8.0  2019-12-27       Low-priced      16602.0  \n",
       "\n",
       "[1154 rows x 13 columns]"
      ]
     },
     "execution_count": 30,
     "metadata": {},
     "output_type": "execute_result"
    }
   ],
   "source": [
    "df2 = df[df['Quantity Ordered']>=4]\n",
    "df2"
   ]
  },
  {
   "cell_type": "code",
   "execution_count": 31,
   "id": "41ed0c39",
   "metadata": {
    "scrolled": false
   },
   "outputs": [
    {
     "data": {
      "text/html": [
       "<div>\n",
       "<style scoped>\n",
       "    .dataframe tbody tr th:only-of-type {\n",
       "        vertical-align: middle;\n",
       "    }\n",
       "\n",
       "    .dataframe tbody tr th {\n",
       "        vertical-align: top;\n",
       "    }\n",
       "\n",
       "    .dataframe thead th {\n",
       "        text-align: right;\n",
       "    }\n",
       "</style>\n",
       "<table border=\"1\" class=\"dataframe\">\n",
       "  <thead>\n",
       "    <tr style=\"text-align: right;\">\n",
       "      <th></th>\n",
       "      <th>Unnamed: 0</th>\n",
       "      <th>Order ID</th>\n",
       "      <th>Quantity Ordered</th>\n",
       "      <th>Price Each</th>\n",
       "      <th>Zip code</th>\n",
       "      <th>hour</th>\n",
       "      <th>Total_units</th>\n",
       "    </tr>\n",
       "  </thead>\n",
       "  <tbody>\n",
       "    <tr>\n",
       "      <th>count</th>\n",
       "      <td>1154.000000</td>\n",
       "      <td>1154.000000</td>\n",
       "      <td>1154.000000</td>\n",
       "      <td>1154.000000</td>\n",
       "      <td>1154.000000</td>\n",
       "      <td>1154.000000</td>\n",
       "      <td>1154.000000</td>\n",
       "    </tr>\n",
       "    <tr>\n",
       "      <th>mean</th>\n",
       "      <td>94297.183709</td>\n",
       "      <td>231686.402080</td>\n",
       "      <td>4.435875</td>\n",
       "      <td>3.520858</td>\n",
       "      <td>64341.580589</td>\n",
       "      <td>14.149047</td>\n",
       "      <td>47246.269497</td>\n",
       "    </tr>\n",
       "    <tr>\n",
       "      <th>std</th>\n",
       "      <td>53442.624851</td>\n",
       "      <td>51286.419292</td>\n",
       "      <td>0.783478</td>\n",
       "      <td>1.638783</td>\n",
       "      <td>37965.351268</td>\n",
       "      <td>5.393804</td>\n",
       "      <td>30695.683489</td>\n",
       "    </tr>\n",
       "    <tr>\n",
       "      <th>min</th>\n",
       "      <td>104.000000</td>\n",
       "      <td>141335.000000</td>\n",
       "      <td>4.000000</td>\n",
       "      <td>2.990000</td>\n",
       "      <td>2215.000000</td>\n",
       "      <td>0.000000</td>\n",
       "      <td>2750.000000</td>\n",
       "    </tr>\n",
       "    <tr>\n",
       "      <th>25%</th>\n",
       "      <td>49221.500000</td>\n",
       "      <td>188445.250000</td>\n",
       "      <td>4.000000</td>\n",
       "      <td>2.990000</td>\n",
       "      <td>10001.000000</td>\n",
       "      <td>11.000000</td>\n",
       "      <td>22528.000000</td>\n",
       "    </tr>\n",
       "    <tr>\n",
       "      <th>50%</th>\n",
       "      <td>95741.500000</td>\n",
       "      <td>233038.000000</td>\n",
       "      <td>4.000000</td>\n",
       "      <td>2.990000</td>\n",
       "      <td>90001.000000</td>\n",
       "      <td>14.000000</td>\n",
       "      <td>27932.000000</td>\n",
       "    </tr>\n",
       "    <tr>\n",
       "      <th>75%</th>\n",
       "      <td>140380.500000</td>\n",
       "      <td>275918.000000</td>\n",
       "      <td>5.000000</td>\n",
       "      <td>3.840000</td>\n",
       "      <td>94016.000000</td>\n",
       "      <td>19.000000</td>\n",
       "      <td>83528.000000</td>\n",
       "    </tr>\n",
       "    <tr>\n",
       "      <th>max</th>\n",
       "      <td>185802.000000</td>\n",
       "      <td>319528.000000</td>\n",
       "      <td>9.000000</td>\n",
       "      <td>14.950000</td>\n",
       "      <td>98101.000000</td>\n",
       "      <td>23.000000</td>\n",
       "      <td>83528.000000</td>\n",
       "    </tr>\n",
       "  </tbody>\n",
       "</table>\n",
       "</div>"
      ],
      "text/plain": [
       "          Unnamed: 0       Order ID  Quantity Ordered   Price Each  \\\n",
       "count    1154.000000    1154.000000       1154.000000  1154.000000   \n",
       "mean    94297.183709  231686.402080          4.435875     3.520858   \n",
       "std     53442.624851   51286.419292          0.783478     1.638783   \n",
       "min       104.000000  141335.000000          4.000000     2.990000   \n",
       "25%     49221.500000  188445.250000          4.000000     2.990000   \n",
       "50%     95741.500000  233038.000000          4.000000     2.990000   \n",
       "75%    140380.500000  275918.000000          5.000000     3.840000   \n",
       "max    185802.000000  319528.000000          9.000000    14.950000   \n",
       "\n",
       "           Zip code         hour   Total_units  \n",
       "count   1154.000000  1154.000000   1154.000000  \n",
       "mean   64341.580589    14.149047  47246.269497  \n",
       "std    37965.351268     5.393804  30695.683489  \n",
       "min     2215.000000     0.000000   2750.000000  \n",
       "25%    10001.000000    11.000000  22528.000000  \n",
       "50%    90001.000000    14.000000  27932.000000  \n",
       "75%    94016.000000    19.000000  83528.000000  \n",
       "max    98101.000000    23.000000  83528.000000  "
      ]
     },
     "execution_count": 31,
     "metadata": {},
     "output_type": "execute_result"
    }
   ],
   "source": [
    "df2.describe()"
   ]
  },
  {
   "cell_type": "code",
   "execution_count": 32,
   "id": "f8de7c18",
   "metadata": {},
   "outputs": [
    {
     "data": {
      "image/png": "[encoded data removed]",
      "text/plain": [
       "<Figure size 432x288 with 1 Axes>"
      ]
     },
     "metadata": {
      "needs_background": "light"
     },
     "output_type": "display_data"
    }
   ],
   "source": [
    "# Create a scatterplot using matplotlib for another look at how the chosen variables plot against each other.\n",
    "\n",
    "df2.plot(x = 'Quantity Ordered', y='Price Each',style='o') # The style option creates a scatterplot; without it, we only have lines.\n",
    "plt.title('Price vs units ordered')  \n",
    "plt.xlabel('Units Ordered')  \n",
    "plt.ylabel('Price')  \n",
    "plt.show()"
   ]
  },
  {
   "cell_type": "code",
   "execution_count": 33,
   "id": "97b3ad46",
   "metadata": {},
   "outputs": [],
   "source": [
    "# Reshape the variables into NumPy arrays and put them into separate objects.\n",
    "X = df2['Quantity Ordered'].values.reshape(-1,1)\n",
    "y = df2['Price Each'].values.reshape(-1,1)"
   ]
  },
  {
   "cell_type": "code",
   "execution_count": 34,
   "id": "39341cef",
   "metadata": {
    "scrolled": true
   },
   "outputs": [
    {
     "data": {
      "text/plain": [
       "array([[5.],\n",
       "       [4.],\n",
       "       [7.],\n",
       "       ...,\n",
       "       [4.],\n",
       "       [5.],\n",
       "       [4.]])"
      ]
     },
     "execution_count": 34,
     "metadata": {},
     "output_type": "execute_result"
    }
   ],
   "source": [
    "X"
   ]
  },
  {
   "cell_type": "code",
   "execution_count": 35,
   "id": "16e54da3",
   "metadata": {
    "scrolled": true
   },
   "outputs": [
    {
     "data": {
      "text/plain": [
       "array([[2.99],\n",
       "       [2.99],\n",
       "       [2.99],\n",
       "       ...,\n",
       "       [2.99],\n",
       "       [3.84],\n",
       "       [2.99]])"
      ]
     },
     "execution_count": 35,
     "metadata": {},
     "output_type": "execute_result"
    }
   ],
   "source": [
    "y"
   ]
  },
  {
   "cell_type": "code",
   "execution_count": 36,
   "id": "8ff49f0c",
   "metadata": {},
   "outputs": [],
   "source": [
    "# Split data into a training set and a test set.  Using test_train_split\n",
    "X_train,X_test,y_train,y_test = train_test_split(X,y,test_size = 0.3,random_state = 0)"
   ]
  },
  {
   "cell_type": "code",
   "execution_count": 37,
   "id": "2e49c8fc",
   "metadata": {},
   "outputs": [],
   "source": [
    "### 4. Regression Analysis\n",
    "\n",
    "# Create regression object\n",
    "regression = LinearRegression()"
   ]
  },
  {
   "cell_type": "code",
   "execution_count": 38,
   "id": "5e6c93e7",
   "metadata": {},
   "outputs": [
    {
     "data": {
      "text/plain": [
       "LinearRegression()"
      ]
     },
     "execution_count": 38,
     "metadata": {},
     "output_type": "execute_result"
    }
   ],
   "source": [
    "# Fit the regression to the training set of each variable.  This trains the model.\n",
    "regression.fit(X_train, y_train)"
   ]
  },
  {
   "cell_type": "code",
   "execution_count": 39,
   "id": "09f45d89",
   "metadata": {},
   "outputs": [],
   "source": [
    "# Apply model to x_test data to predict y values\n",
    "y_predicted = regression.predict(X_test)"
   ]
  },
  {
   "cell_type": "code",
   "execution_count": 40,
   "id": "743898b9",
   "metadata": {},
   "outputs": [
    {
     "data": {
      "image/png": "[encoded data removed]",
      "text/plain": [
       "<Figure size 432x288 with 1 Axes>"
      ]
     },
     "metadata": {
      "needs_background": "light"
     },
     "output_type": "display_data"
    }
   ],
   "source": [
    "# Create a plot that shows the regression line from the model on the test set.\n",
    "plot_test = plt\n",
    "plot_test.scatter(X_test, y_test, color='gray', s = 15)\n",
    "plot_test.plot(X_test, y_predicted, color='red', linewidth =3)\n",
    "plot_test.title('Price vs units ordered (Test set)')\n",
    "plot_test.xlabel('Units Ordered')\n",
    "plot_test.ylabel('Price')\n",
    "plot_test.show()"
   ]
  },
  {
   "cell_type": "code",
   "execution_count": 41,
   "id": "5b8f50f5",
   "metadata": {},
   "outputs": [],
   "source": [
    "# Check the slope, MSE and R2 score.\n",
    "# Create objects that contain the model summary statistics.\n",
    "rmse = mean_squared_error(y_test, y_predicted)\n",
    "r2 = r2_score(y_test, y_predicted)"
   ]
  },
  {
   "cell_type": "code",
   "execution_count": 42,
   "id": "2cb7270a",
   "metadata": {
    "scrolled": false
   },
   "outputs": [
    {
     "name": "stdout",
     "output_type": "stream",
     "text": [
      "Slope: [[-0.20615658]]\n",
      "Mean squared error:  2.18520847037317\n",
      "R2 score:  0.009219318794515208\n"
     ]
    }
   ],
   "source": [
    "# Print the model summary statistics. This is where you evaluate the performance of the model.\n",
    "\n",
    "print('Slope:' ,regression.coef_)\n",
    "print('Mean squared error: ', rmse)\n",
    "print('R2 score: ', r2)"
   ]
  },
  {
   "cell_type": "markdown",
   "id": "566beb84",
   "metadata": {},
   "source": [
    "#### When looking at number of units greater than or equal to 4 the linier regression fits a lot better   \n",
    "#### Even though the R score is still low you can see from the plot the the corrilation between cost and units ordered does exist"
   ]
  },
  {
   "cell_type": "markdown",
   "id": "c331d094",
   "metadata": {},
   "source": [
    "### Regression on df of quantity ordered 3 and lower"
   ]
  },
  {
   "cell_type": "code",
   "execution_count": null,
   "id": "d7fa9cf9",
   "metadata": {},
   "outputs": [],
   "source": []
  },
  {
   "cell_type": "code",
   "execution_count": 43,
   "id": "8c1afa12",
   "metadata": {},
   "outputs": [
    {
     "data": {
      "text/html": [
       "<div>\n",
       "<style scoped>\n",
       "    .dataframe tbody tr th:only-of-type {\n",
       "        vertical-align: middle;\n",
       "    }\n",
       "\n",
       "    .dataframe tbody tr th {\n",
       "        vertical-align: top;\n",
       "    }\n",
       "\n",
       "    .dataframe thead th {\n",
       "        text-align: right;\n",
       "    }\n",
       "</style>\n",
       "<table border=\"1\" class=\"dataframe\">\n",
       "  <thead>\n",
       "    <tr style=\"text-align: right;\">\n",
       "      <th></th>\n",
       "      <th>Unnamed: 0</th>\n",
       "      <th>Order ID</th>\n",
       "      <th>Product</th>\n",
       "      <th>Quantity Ordered</th>\n",
       "      <th>Price Each</th>\n",
       "      <th>Order_date_&amp;_time</th>\n",
       "      <th>Town</th>\n",
       "      <th>Zip code</th>\n",
       "      <th>State</th>\n",
       "      <th>hour</th>\n",
       "      <th>Date</th>\n",
       "      <th>Pricing Category</th>\n",
       "      <th>Total_units</th>\n",
       "    </tr>\n",
       "  </thead>\n",
       "  <tbody>\n",
       "    <tr>\n",
       "      <th>0</th>\n",
       "      <td>1</td>\n",
       "      <td>141234.0</td>\n",
       "      <td>iPhone</td>\n",
       "      <td>1.0</td>\n",
       "      <td>700.00</td>\n",
       "      <td>01/22/19 21:25</td>\n",
       "      <td>Boston</td>\n",
       "      <td>2215.0</td>\n",
       "      <td>Massachusetts</td>\n",
       "      <td>21.0</td>\n",
       "      <td>2019-01-22</td>\n",
       "      <td>Mid-Priced</td>\n",
       "      <td>22528.0</td>\n",
       "    </tr>\n",
       "    <tr>\n",
       "      <th>1</th>\n",
       "      <td>2</td>\n",
       "      <td>141235.0</td>\n",
       "      <td>Lightning Charging Cable</td>\n",
       "      <td>1.0</td>\n",
       "      <td>14.95</td>\n",
       "      <td>01/28/19 14:15</td>\n",
       "      <td>Portland</td>\n",
       "      <td>97035.0</td>\n",
       "      <td>Oregon</td>\n",
       "      <td>14.0</td>\n",
       "      <td>2019-01-28</td>\n",
       "      <td>Low-priced</td>\n",
       "      <td>11303.0</td>\n",
       "    </tr>\n",
       "    <tr>\n",
       "      <th>2</th>\n",
       "      <td>3</td>\n",
       "      <td>141236.0</td>\n",
       "      <td>Wired Headphones</td>\n",
       "      <td>2.0</td>\n",
       "      <td>11.99</td>\n",
       "      <td>01/17/19 13:33</td>\n",
       "      <td>San Francisco</td>\n",
       "      <td>94016.0</td>\n",
       "      <td>California</td>\n",
       "      <td>13.0</td>\n",
       "      <td>2019-01-17</td>\n",
       "      <td>Low-priced</td>\n",
       "      <td>83528.0</td>\n",
       "    </tr>\n",
       "    <tr>\n",
       "      <th>3</th>\n",
       "      <td>4</td>\n",
       "      <td>141237.0</td>\n",
       "      <td>27in FHD Monitor</td>\n",
       "      <td>1.0</td>\n",
       "      <td>149.99</td>\n",
       "      <td>01/05/2019 20:33</td>\n",
       "      <td>Los Angeles</td>\n",
       "      <td>90001.0</td>\n",
       "      <td>California</td>\n",
       "      <td>20.0</td>\n",
       "      <td>2019-01-05</td>\n",
       "      <td>Low-priced</td>\n",
       "      <td>83528.0</td>\n",
       "    </tr>\n",
       "    <tr>\n",
       "      <th>4</th>\n",
       "      <td>5</td>\n",
       "      <td>141238.0</td>\n",
       "      <td>Wired Headphones</td>\n",
       "      <td>1.0</td>\n",
       "      <td>11.99</td>\n",
       "      <td>01/25/19 11:59</td>\n",
       "      <td>Austin</td>\n",
       "      <td>73301.0</td>\n",
       "      <td>Texas</td>\n",
       "      <td>11.0</td>\n",
       "      <td>2019-01-25</td>\n",
       "      <td>Low-priced</td>\n",
       "      <td>27883.0</td>\n",
       "    </tr>\n",
       "    <tr>\n",
       "      <th>...</th>\n",
       "      <td>...</td>\n",
       "      <td>...</td>\n",
       "      <td>...</td>\n",
       "      <td>...</td>\n",
       "      <td>...</td>\n",
       "      <td>...</td>\n",
       "      <td>...</td>\n",
       "      <td>...</td>\n",
       "      <td>...</td>\n",
       "      <td>...</td>\n",
       "      <td>...</td>\n",
       "      <td>...</td>\n",
       "      <td>...</td>\n",
       "    </tr>\n",
       "    <tr>\n",
       "      <th>185945</th>\n",
       "      <td>185946</td>\n",
       "      <td>319666.0</td>\n",
       "      <td>Lightning Charging Cable</td>\n",
       "      <td>1.0</td>\n",
       "      <td>14.95</td>\n",
       "      <td>12/11/2019 20:58</td>\n",
       "      <td>San Francisco</td>\n",
       "      <td>94016.0</td>\n",
       "      <td>California</td>\n",
       "      <td>20.0</td>\n",
       "      <td>2019-12-11</td>\n",
       "      <td>Low-priced</td>\n",
       "      <td>83528.0</td>\n",
       "    </tr>\n",
       "    <tr>\n",
       "      <th>185946</th>\n",
       "      <td>185947</td>\n",
       "      <td>319667.0</td>\n",
       "      <td>AA Batteries (4-pack)</td>\n",
       "      <td>2.0</td>\n",
       "      <td>3.84</td>\n",
       "      <td>12/01/2019 12:01</td>\n",
       "      <td>Los Angeles</td>\n",
       "      <td>90001.0</td>\n",
       "      <td>California</td>\n",
       "      <td>12.0</td>\n",
       "      <td>2019-12-01</td>\n",
       "      <td>Low-priced</td>\n",
       "      <td>83528.0</td>\n",
       "    </tr>\n",
       "    <tr>\n",
       "      <th>185947</th>\n",
       "      <td>185948</td>\n",
       "      <td>319668.0</td>\n",
       "      <td>Vareebadd Phone</td>\n",
       "      <td>1.0</td>\n",
       "      <td>400.00</td>\n",
       "      <td>12/09/2019 06:43</td>\n",
       "      <td>Seattle</td>\n",
       "      <td>98101.0</td>\n",
       "      <td>Washington</td>\n",
       "      <td>6.0</td>\n",
       "      <td>2019-12-09</td>\n",
       "      <td>Low-priced</td>\n",
       "      <td>16553.0</td>\n",
       "    </tr>\n",
       "    <tr>\n",
       "      <th>185948</th>\n",
       "      <td>185949</td>\n",
       "      <td>319669.0</td>\n",
       "      <td>Wired Headphones</td>\n",
       "      <td>1.0</td>\n",
       "      <td>11.99</td>\n",
       "      <td>12/03/2019 10:39</td>\n",
       "      <td>Dallas</td>\n",
       "      <td>75001.0</td>\n",
       "      <td>Texas</td>\n",
       "      <td>10.0</td>\n",
       "      <td>2019-12-03</td>\n",
       "      <td>Low-priced</td>\n",
       "      <td>27883.0</td>\n",
       "    </tr>\n",
       "    <tr>\n",
       "      <th>185949</th>\n",
       "      <td>185950</td>\n",
       "      <td>319670.0</td>\n",
       "      <td>Bose SoundSport Headphones</td>\n",
       "      <td>1.0</td>\n",
       "      <td>99.99</td>\n",
       "      <td>12/21/19 21:45</td>\n",
       "      <td>Los Angeles</td>\n",
       "      <td>90001.0</td>\n",
       "      <td>California</td>\n",
       "      <td>21.0</td>\n",
       "      <td>2019-12-21</td>\n",
       "      <td>Low-priced</td>\n",
       "      <td>83528.0</td>\n",
       "    </tr>\n",
       "  </tbody>\n",
       "</table>\n",
       "<p>184796 rows × 13 columns</p>\n",
       "</div>"
      ],
      "text/plain": [
       "        Unnamed: 0  Order ID                     Product  Quantity Ordered  \\\n",
       "0                1  141234.0                      iPhone               1.0   \n",
       "1                2  141235.0    Lightning Charging Cable               1.0   \n",
       "2                3  141236.0            Wired Headphones               2.0   \n",
       "3                4  141237.0            27in FHD Monitor               1.0   \n",
       "4                5  141238.0            Wired Headphones               1.0   \n",
       "...            ...       ...                         ...               ...   \n",
       "185945      185946  319666.0    Lightning Charging Cable               1.0   \n",
       "185946      185947  319667.0       AA Batteries (4-pack)               2.0   \n",
       "185947      185948  319668.0             Vareebadd Phone               1.0   \n",
       "185948      185949  319669.0            Wired Headphones               1.0   \n",
       "185949      185950  319670.0  Bose SoundSport Headphones               1.0   \n",
       "\n",
       "        Price Each Order_date_&_time            Town  Zip code          State  \\\n",
       "0           700.00    01/22/19 21:25          Boston    2215.0  Massachusetts   \n",
       "1            14.95    01/28/19 14:15        Portland   97035.0         Oregon   \n",
       "2            11.99    01/17/19 13:33   San Francisco   94016.0     California   \n",
       "3           149.99  01/05/2019 20:33     Los Angeles   90001.0     California   \n",
       "4            11.99    01/25/19 11:59          Austin   73301.0          Texas   \n",
       "...            ...               ...             ...       ...            ...   \n",
       "185945       14.95  12/11/2019 20:58   San Francisco   94016.0     California   \n",
       "185946        3.84  12/01/2019 12:01     Los Angeles   90001.0     California   \n",
       "185947      400.00  12/09/2019 06:43         Seattle   98101.0     Washington   \n",
       "185948       11.99  12/03/2019 10:39          Dallas   75001.0          Texas   \n",
       "185949       99.99    12/21/19 21:45     Los Angeles   90001.0     California   \n",
       "\n",
       "        hour        Date Pricing Category  Total_units  \n",
       "0       21.0  2019-01-22       Mid-Priced      22528.0  \n",
       "1       14.0  2019-01-28       Low-priced      11303.0  \n",
       "2       13.0  2019-01-17       Low-priced      83528.0  \n",
       "3       20.0  2019-01-05       Low-priced      83528.0  \n",
       "4       11.0  2019-01-25       Low-priced      27883.0  \n",
       "...      ...         ...              ...          ...  \n",
       "185945  20.0  2019-12-11       Low-priced      83528.0  \n",
       "185946  12.0  2019-12-01       Low-priced      83528.0  \n",
       "185947   6.0  2019-12-09       Low-priced      16553.0  \n",
       "185948  10.0  2019-12-03       Low-priced      27883.0  \n",
       "185949  21.0  2019-12-21       Low-priced      83528.0  \n",
       "\n",
       "[184796 rows x 13 columns]"
      ]
     },
     "execution_count": 43,
     "metadata": {},
     "output_type": "execute_result"
    }
   ],
   "source": [
    "df3 = df[df['Quantity Ordered']<4]\n",
    "df3"
   ]
  },
  {
   "cell_type": "code",
   "execution_count": 44,
   "id": "68766087",
   "metadata": {
    "scrolled": false
   },
   "outputs": [
    {
     "data": {
      "text/html": [
       "<div>\n",
       "<style scoped>\n",
       "    .dataframe tbody tr th:only-of-type {\n",
       "        vertical-align: middle;\n",
       "    }\n",
       "\n",
       "    .dataframe tbody tr th {\n",
       "        vertical-align: top;\n",
       "    }\n",
       "\n",
       "    .dataframe thead th {\n",
       "        text-align: right;\n",
       "    }\n",
       "</style>\n",
       "<table border=\"1\" class=\"dataframe\">\n",
       "  <thead>\n",
       "    <tr style=\"text-align: right;\">\n",
       "      <th></th>\n",
       "      <th>Unnamed: 0</th>\n",
       "      <th>Order ID</th>\n",
       "      <th>Quantity Ordered</th>\n",
       "      <th>Price Each</th>\n",
       "      <th>Zip code</th>\n",
       "      <th>hour</th>\n",
       "      <th>Total_units</th>\n",
       "    </tr>\n",
       "  </thead>\n",
       "  <tbody>\n",
       "    <tr>\n",
       "      <th>count</th>\n",
       "      <td>184796.000000</td>\n",
       "      <td>184796.000000</td>\n",
       "      <td>184796.000000</td>\n",
       "      <td>184796.000000</td>\n",
       "      <td>184796.000000</td>\n",
       "      <td>184796.000000</td>\n",
       "      <td>184796.000000</td>\n",
       "    </tr>\n",
       "    <tr>\n",
       "      <th>mean</th>\n",
       "      <td>92967.246450</td>\n",
       "      <td>230409.645869</td>\n",
       "      <td>1.103704</td>\n",
       "      <td>185.529273</td>\n",
       "      <td>63874.620998</td>\n",
       "      <td>14.414955</td>\n",
       "      <td>46531.434328</td>\n",
       "    </tr>\n",
       "    <tr>\n",
       "      <th>std</th>\n",
       "      <td>53680.801943</td>\n",
       "      <td>51514.187247</td>\n",
       "      <td>0.352920</td>\n",
       "      <td>333.460481</td>\n",
       "      <td>37775.210129</td>\n",
       "      <td>5.423574</td>\n",
       "      <td>30601.280654</td>\n",
       "    </tr>\n",
       "    <tr>\n",
       "      <th>min</th>\n",
       "      <td>1.000000</td>\n",
       "      <td>141234.000000</td>\n",
       "      <td>1.000000</td>\n",
       "      <td>2.990000</td>\n",
       "      <td>2215.000000</td>\n",
       "      <td>0.000000</td>\n",
       "      <td>2750.000000</td>\n",
       "    </tr>\n",
       "    <tr>\n",
       "      <th>25%</th>\n",
       "      <td>46473.750000</td>\n",
       "      <td>185816.750000</td>\n",
       "      <td>1.000000</td>\n",
       "      <td>11.950000</td>\n",
       "      <td>10001.000000</td>\n",
       "      <td>11.000000</td>\n",
       "      <td>22528.000000</td>\n",
       "    </tr>\n",
       "    <tr>\n",
       "      <th>50%</th>\n",
       "      <td>92957.500000</td>\n",
       "      <td>230350.500000</td>\n",
       "      <td>1.000000</td>\n",
       "      <td>14.950000</td>\n",
       "      <td>90001.000000</td>\n",
       "      <td>15.000000</td>\n",
       "      <td>27932.000000</td>\n",
       "    </tr>\n",
       "    <tr>\n",
       "      <th>75%</th>\n",
       "      <td>139455.250000</td>\n",
       "      <td>275029.250000</td>\n",
       "      <td>1.000000</td>\n",
       "      <td>150.000000</td>\n",
       "      <td>94016.000000</td>\n",
       "      <td>19.000000</td>\n",
       "      <td>83528.000000</td>\n",
       "    </tr>\n",
       "    <tr>\n",
       "      <th>max</th>\n",
       "      <td>185950.000000</td>\n",
       "      <td>319670.000000</td>\n",
       "      <td>3.000000</td>\n",
       "      <td>1700.000000</td>\n",
       "      <td>98101.000000</td>\n",
       "      <td>23.000000</td>\n",
       "      <td>83528.000000</td>\n",
       "    </tr>\n",
       "  </tbody>\n",
       "</table>\n",
       "</div>"
      ],
      "text/plain": [
       "          Unnamed: 0       Order ID  Quantity Ordered     Price Each  \\\n",
       "count  184796.000000  184796.000000     184796.000000  184796.000000   \n",
       "mean    92967.246450  230409.645869          1.103704     185.529273   \n",
       "std     53680.801943   51514.187247          0.352920     333.460481   \n",
       "min         1.000000  141234.000000          1.000000       2.990000   \n",
       "25%     46473.750000  185816.750000          1.000000      11.950000   \n",
       "50%     92957.500000  230350.500000          1.000000      14.950000   \n",
       "75%    139455.250000  275029.250000          1.000000     150.000000   \n",
       "max    185950.000000  319670.000000          3.000000    1700.000000   \n",
       "\n",
       "            Zip code           hour    Total_units  \n",
       "count  184796.000000  184796.000000  184796.000000  \n",
       "mean    63874.620998      14.414955   46531.434328  \n",
       "std     37775.210129       5.423574   30601.280654  \n",
       "min      2215.000000       0.000000    2750.000000  \n",
       "25%     10001.000000      11.000000   22528.000000  \n",
       "50%     90001.000000      15.000000   27932.000000  \n",
       "75%     94016.000000      19.000000   83528.000000  \n",
       "max     98101.000000      23.000000   83528.000000  "
      ]
     },
     "execution_count": 44,
     "metadata": {},
     "output_type": "execute_result"
    }
   ],
   "source": [
    "df3.describe()"
   ]
  },
  {
   "cell_type": "code",
   "execution_count": 45,
   "id": "80498b6c",
   "metadata": {},
   "outputs": [
    {
     "data": {
      "image/png": "[encoded data removed]",
      "text/plain": [
       "<Figure size 432x288 with 1 Axes>"
      ]
     },
     "metadata": {
      "needs_background": "light"
     },
     "output_type": "display_data"
    }
   ],
   "source": [
    "# Create a scatterplot using matplotlib for another look at how the chosen variables plot against each other.\n",
    "\n",
    "df3.plot(x = 'Quantity Ordered', y='Price Each',style='o') # The style option creates a scatterplot; without it, we only have lines.\n",
    "plt.title('Price vs units ordered')  \n",
    "plt.xlabel('Units Ordered')  \n",
    "plt.ylabel('Price')  \n",
    "plt.show()"
   ]
  },
  {
   "cell_type": "code",
   "execution_count": 46,
   "id": "54f755bd",
   "metadata": {},
   "outputs": [],
   "source": [
    "# Reshape the variables into NumPy arrays and put them into separate objects.\n",
    "X = df3['Quantity Ordered'].values.reshape(-1,1)\n",
    "y = df3['Price Each'].values.reshape(-1,1)"
   ]
  },
  {
   "cell_type": "code",
   "execution_count": 47,
   "id": "9a6cd821",
   "metadata": {
    "scrolled": true
   },
   "outputs": [
    {
     "data": {
      "text/plain": [
       "array([[1.],\n",
       "       [1.],\n",
       "       [2.],\n",
       "       ...,\n",
       "       [1.],\n",
       "       [1.],\n",
       "       [1.]])"
      ]
     },
     "execution_count": 47,
     "metadata": {},
     "output_type": "execute_result"
    }
   ],
   "source": [
    "X"
   ]
  },
  {
   "cell_type": "code",
   "execution_count": 48,
   "id": "692c8e56",
   "metadata": {
    "scrolled": true
   },
   "outputs": [
    {
     "data": {
      "text/plain": [
       "array([[700.  ],\n",
       "       [ 14.95],\n",
       "       [ 11.99],\n",
       "       ...,\n",
       "       [400.  ],\n",
       "       [ 11.99],\n",
       "       [ 99.99]])"
      ]
     },
     "execution_count": 48,
     "metadata": {},
     "output_type": "execute_result"
    }
   ],
   "source": [
    "y"
   ]
  },
  {
   "cell_type": "code",
   "execution_count": 49,
   "id": "8f9cff9c",
   "metadata": {},
   "outputs": [],
   "source": [
    "# Split data into a training set and a test set.  Using test_train_split\n",
    "X_train,X_test,y_train,y_test = train_test_split(X,y,test_size = 0.3,random_state = 0)"
   ]
  },
  {
   "cell_type": "code",
   "execution_count": 50,
   "id": "ddf374ba",
   "metadata": {},
   "outputs": [],
   "source": [
    "### 4. Regression Analysis\n",
    "\n",
    "# Create regression object\n",
    "regression = LinearRegression()"
   ]
  },
  {
   "cell_type": "code",
   "execution_count": 51,
   "id": "d6a6dce5",
   "metadata": {},
   "outputs": [
    {
     "data": {
      "text/plain": [
       "LinearRegression()"
      ]
     },
     "execution_count": 51,
     "metadata": {},
     "output_type": "execute_result"
    }
   ],
   "source": [
    "# Fit the regression to the training set of each variable.  This trains the model.\n",
    "regression.fit(X_train, y_train)"
   ]
  },
  {
   "cell_type": "code",
   "execution_count": 52,
   "id": "1776243b",
   "metadata": {},
   "outputs": [],
   "source": [
    "# Apply model to x_test data to predict y values\n",
    "y_predicted = regression.predict(X_test)"
   ]
  },
  {
   "cell_type": "code",
   "execution_count": 53,
   "id": "4fba5080",
   "metadata": {},
   "outputs": [
    {
     "data": {
      "image/png": "[encoded data removed]",
      "text/plain": [
       "<Figure size 432x288 with 1 Axes>"
      ]
     },
     "metadata": {
      "needs_background": "light"
     },
     "output_type": "display_data"
    }
   ],
   "source": [
    "# Create a plot that shows the regression line from the model on the test set.\n",
    "plot_test = plt\n",
    "plot_test.scatter(X_test, y_test, color='gray', s = 15)\n",
    "plot_test.plot(X_test, y_predicted, color='red', linewidth =3)\n",
    "plot_test.title('Price vs units ordered (Test set)')\n",
    "plot_test.xlabel('Units Ordered')\n",
    "plot_test.ylabel('Price')\n",
    "plot_test.show()"
   ]
  },
  {
   "cell_type": "code",
   "execution_count": 54,
   "id": "a4aab743",
   "metadata": {},
   "outputs": [],
   "source": [
    "# Check the slope, MSE and R2 score.\n",
    "# Create objects that contain the model summary statistics.\n",
    "rmse = mean_squared_error(y_test, y_predicted)\n",
    "r2 = r2_score(y_test, y_predicted)"
   ]
  },
  {
   "cell_type": "code",
   "execution_count": 55,
   "id": "0cb3afaf",
   "metadata": {
    "scrolled": false
   },
   "outputs": [
    {
     "name": "stdout",
     "output_type": "stream",
     "text": [
      "Slope: [[-145.8583437]]\n",
      "Mean squared error:  109837.42977921083\n",
      "R2 score:  0.023720547330471242\n"
     ]
    }
   ],
   "source": [
    "# Print the model summary statistics. This is where you evaluate the performance of the model.\n",
    "\n",
    "print('Slope:' ,regression.coef_)\n",
    "print('Mean squared error: ', rmse)\n",
    "print('R2 score: ', r2)"
   ]
  },
  {
   "cell_type": "markdown",
   "id": "09d368bb",
   "metadata": {},
   "source": [
    "#### When looking at number of units bought less than 4 the linier regression fits a lot better   \n",
    "#### Lokking at this as a single data set doesn't seem to show much corrilation but once you have divided it into higher and lower quantities ordered there is a much better corrilation . "
   ]
  },
  {
   "cell_type": "markdown",
   "id": "721c2e72",
   "metadata": {},
   "source": [
    "### Hypothesis 2:  As the price of an item goes up the total sales of that item will reduce."
   ]
  },
  {
   "cell_type": "code",
   "execution_count": 57,
   "id": "25571e4b",
   "metadata": {},
   "outputs": [
    {
     "name": "stdout",
     "output_type": "stream",
     "text": [
      "   Unnamed: 0  Order ID                   Product  Quantity Ordered  \\\n",
      "0           1  141234.0                    iPhone               1.0   \n",
      "1           2  141235.0  Lightning Charging Cable               1.0   \n",
      "2           3  141236.0          Wired Headphones               2.0   \n",
      "3           4  141237.0          27in FHD Monitor               1.0   \n",
      "4           5  141238.0          Wired Headphones               1.0   \n",
      "\n",
      "   Price Each Order_date_&_time            Town  Zip code          State  \\\n",
      "0      700.00    01/22/19 21:25          Boston    2215.0  Massachusetts   \n",
      "1       14.95    01/28/19 14:15        Portland   97035.0         Oregon   \n",
      "2       11.99    01/17/19 13:33   San Francisco   94016.0     California   \n",
      "3      149.99  01/05/2019 20:33     Los Angeles   90001.0     California   \n",
      "4       11.99    01/25/19 11:59          Austin   73301.0          Texas   \n",
      "\n",
      "   hour        Date Pricing Category  Total_units_per_state  \n",
      "0  21.0  2019-01-22       Mid-Priced                22528.0  \n",
      "1  14.0  2019-01-28       Low-priced                11303.0  \n",
      "2  13.0  2019-01-17       Low-priced                83528.0  \n",
      "3  20.0  2019-01-05       Low-priced                83528.0  \n",
      "4  11.0  2019-01-25       Low-priced                27883.0  \n"
     ]
    },
    {
     "name": "stderr",
     "output_type": "stream",
     "text": [
      "C:\\Users\\Hello\\AppData\\Local\\Temp\\ipykernel_9156\\1060025999.py:1: SettingWithCopyWarning: \n",
      "A value is trying to be set on a copy of a slice from a DataFrame\n",
      "\n",
      "See the caveats in the documentation: https://pandas.pydata.org/pandas-docs/stable/user_guide/indexing.html#returning-a-view-versus-a-copy\n",
      "  df3.rename(columns={\"Total_units\":\"Total_units_per_state\"},inplace=True)\n"
     ]
    }
   ],
   "source": [
    "df3.rename(columns={\"Total_units\":\"Total_units_per_state\"},inplace=True)\n",
    "print(df3.head())"
   ]
  },
  {
   "cell_type": "code",
   "execution_count": 58,
   "id": "3837493e",
   "metadata": {},
   "outputs": [
    {
     "name": "stderr",
     "output_type": "stream",
     "text": [
      "C:\\Users\\Hello\\AppData\\Local\\Temp\\ipykernel_9156\\3968751863.py:1: SettingWithCopyWarning: \n",
      "A value is trying to be set on a copy of a slice from a DataFrame.\n",
      "Try using .loc[row_indexer,col_indexer] = value instead\n",
      "\n",
      "See the caveats in the documentation: https://pandas.pydata.org/pandas-docs/stable/user_guide/indexing.html#returning-a-view-versus-a-copy\n",
      "  df3['Total_units_bought'] = df3.groupby(['Product'])['Quantity Ordered'].transform(np.sum)\n"
     ]
    }
   ],
   "source": [
    "df3['Total_units_bought'] = df3.groupby(['Product'])['Quantity Ordered'].transform(np.sum)"
   ]
  },
  {
   "cell_type": "code",
   "execution_count": 59,
   "id": "28d079c2",
   "metadata": {},
   "outputs": [
    {
     "data": {
      "text/html": [
       "<div>\n",
       "<style scoped>\n",
       "    .dataframe tbody tr th:only-of-type {\n",
       "        vertical-align: middle;\n",
       "    }\n",
       "\n",
       "    .dataframe tbody tr th {\n",
       "        vertical-align: top;\n",
       "    }\n",
       "\n",
       "    .dataframe thead th {\n",
       "        text-align: right;\n",
       "    }\n",
       "</style>\n",
       "<table border=\"1\" class=\"dataframe\">\n",
       "  <thead>\n",
       "    <tr style=\"text-align: right;\">\n",
       "      <th></th>\n",
       "      <th>Unnamed: 0</th>\n",
       "      <th>Order ID</th>\n",
       "      <th>Product</th>\n",
       "      <th>Quantity Ordered</th>\n",
       "      <th>Price Each</th>\n",
       "      <th>Order_date_&amp;_time</th>\n",
       "      <th>Town</th>\n",
       "      <th>Zip code</th>\n",
       "      <th>State</th>\n",
       "      <th>hour</th>\n",
       "      <th>Date</th>\n",
       "      <th>Pricing Category</th>\n",
       "      <th>Total_units_per_state</th>\n",
       "      <th>Total_units_bought</th>\n",
       "    </tr>\n",
       "  </thead>\n",
       "  <tbody>\n",
       "    <tr>\n",
       "      <th>0</th>\n",
       "      <td>1</td>\n",
       "      <td>141234.0</td>\n",
       "      <td>iPhone</td>\n",
       "      <td>1.0</td>\n",
       "      <td>700.00</td>\n",
       "      <td>01/22/19 21:25</td>\n",
       "      <td>Boston</td>\n",
       "      <td>2215.0</td>\n",
       "      <td>Massachusetts</td>\n",
       "      <td>21.0</td>\n",
       "      <td>2019-01-22</td>\n",
       "      <td>Mid-Priced</td>\n",
       "      <td>22528.0</td>\n",
       "      <td>6849.0</td>\n",
       "    </tr>\n",
       "    <tr>\n",
       "      <th>1</th>\n",
       "      <td>2</td>\n",
       "      <td>141235.0</td>\n",
       "      <td>Lightning Charging Cable</td>\n",
       "      <td>1.0</td>\n",
       "      <td>14.95</td>\n",
       "      <td>01/28/19 14:15</td>\n",
       "      <td>Portland</td>\n",
       "      <td>97035.0</td>\n",
       "      <td>Oregon</td>\n",
       "      <td>14.0</td>\n",
       "      <td>2019-01-28</td>\n",
       "      <td>Low-priced</td>\n",
       "      <td>11303.0</td>\n",
       "      <td>23189.0</td>\n",
       "    </tr>\n",
       "    <tr>\n",
       "      <th>2</th>\n",
       "      <td>3</td>\n",
       "      <td>141236.0</td>\n",
       "      <td>Wired Headphones</td>\n",
       "      <td>2.0</td>\n",
       "      <td>11.99</td>\n",
       "      <td>01/17/19 13:33</td>\n",
       "      <td>San Francisco</td>\n",
       "      <td>94016.0</td>\n",
       "      <td>California</td>\n",
       "      <td>13.0</td>\n",
       "      <td>2019-01-17</td>\n",
       "      <td>Low-priced</td>\n",
       "      <td>83528.0</td>\n",
       "      <td>20505.0</td>\n",
       "    </tr>\n",
       "    <tr>\n",
       "      <th>3</th>\n",
       "      <td>4</td>\n",
       "      <td>141237.0</td>\n",
       "      <td>27in FHD Monitor</td>\n",
       "      <td>1.0</td>\n",
       "      <td>149.99</td>\n",
       "      <td>01/05/2019 20:33</td>\n",
       "      <td>Los Angeles</td>\n",
       "      <td>90001.0</td>\n",
       "      <td>California</td>\n",
       "      <td>20.0</td>\n",
       "      <td>2019-01-05</td>\n",
       "      <td>Low-priced</td>\n",
       "      <td>83528.0</td>\n",
       "      <td>7550.0</td>\n",
       "    </tr>\n",
       "    <tr>\n",
       "      <th>4</th>\n",
       "      <td>5</td>\n",
       "      <td>141238.0</td>\n",
       "      <td>Wired Headphones</td>\n",
       "      <td>1.0</td>\n",
       "      <td>11.99</td>\n",
       "      <td>01/25/19 11:59</td>\n",
       "      <td>Austin</td>\n",
       "      <td>73301.0</td>\n",
       "      <td>Texas</td>\n",
       "      <td>11.0</td>\n",
       "      <td>2019-01-25</td>\n",
       "      <td>Low-priced</td>\n",
       "      <td>27883.0</td>\n",
       "      <td>20505.0</td>\n",
       "    </tr>\n",
       "    <tr>\n",
       "      <th>...</th>\n",
       "      <td>...</td>\n",
       "      <td>...</td>\n",
       "      <td>...</td>\n",
       "      <td>...</td>\n",
       "      <td>...</td>\n",
       "      <td>...</td>\n",
       "      <td>...</td>\n",
       "      <td>...</td>\n",
       "      <td>...</td>\n",
       "      <td>...</td>\n",
       "      <td>...</td>\n",
       "      <td>...</td>\n",
       "      <td>...</td>\n",
       "      <td>...</td>\n",
       "    </tr>\n",
       "    <tr>\n",
       "      <th>185945</th>\n",
       "      <td>185946</td>\n",
       "      <td>319666.0</td>\n",
       "      <td>Lightning Charging Cable</td>\n",
       "      <td>1.0</td>\n",
       "      <td>14.95</td>\n",
       "      <td>12/11/2019 20:58</td>\n",
       "      <td>San Francisco</td>\n",
       "      <td>94016.0</td>\n",
       "      <td>California</td>\n",
       "      <td>20.0</td>\n",
       "      <td>2019-12-11</td>\n",
       "      <td>Low-priced</td>\n",
       "      <td>83528.0</td>\n",
       "      <td>23189.0</td>\n",
       "    </tr>\n",
       "    <tr>\n",
       "      <th>185946</th>\n",
       "      <td>185947</td>\n",
       "      <td>319667.0</td>\n",
       "      <td>AA Batteries (4-pack)</td>\n",
       "      <td>2.0</td>\n",
       "      <td>3.84</td>\n",
       "      <td>12/01/2019 12:01</td>\n",
       "      <td>Los Angeles</td>\n",
       "      <td>90001.0</td>\n",
       "      <td>California</td>\n",
       "      <td>12.0</td>\n",
       "      <td>2019-12-01</td>\n",
       "      <td>Low-priced</td>\n",
       "      <td>83528.0</td>\n",
       "      <td>26180.0</td>\n",
       "    </tr>\n",
       "    <tr>\n",
       "      <th>185947</th>\n",
       "      <td>185948</td>\n",
       "      <td>319668.0</td>\n",
       "      <td>Vareebadd Phone</td>\n",
       "      <td>1.0</td>\n",
       "      <td>400.00</td>\n",
       "      <td>12/09/2019 06:43</td>\n",
       "      <td>Seattle</td>\n",
       "      <td>98101.0</td>\n",
       "      <td>Washington</td>\n",
       "      <td>6.0</td>\n",
       "      <td>2019-12-09</td>\n",
       "      <td>Low-priced</td>\n",
       "      <td>16553.0</td>\n",
       "      <td>2068.0</td>\n",
       "    </tr>\n",
       "    <tr>\n",
       "      <th>185948</th>\n",
       "      <td>185949</td>\n",
       "      <td>319669.0</td>\n",
       "      <td>Wired Headphones</td>\n",
       "      <td>1.0</td>\n",
       "      <td>11.99</td>\n",
       "      <td>12/03/2019 10:39</td>\n",
       "      <td>Dallas</td>\n",
       "      <td>75001.0</td>\n",
       "      <td>Texas</td>\n",
       "      <td>10.0</td>\n",
       "      <td>2019-12-03</td>\n",
       "      <td>Low-priced</td>\n",
       "      <td>27883.0</td>\n",
       "      <td>20505.0</td>\n",
       "    </tr>\n",
       "    <tr>\n",
       "      <th>185949</th>\n",
       "      <td>185950</td>\n",
       "      <td>319670.0</td>\n",
       "      <td>Bose SoundSport Headphones</td>\n",
       "      <td>1.0</td>\n",
       "      <td>99.99</td>\n",
       "      <td>12/21/19 21:45</td>\n",
       "      <td>Los Angeles</td>\n",
       "      <td>90001.0</td>\n",
       "      <td>California</td>\n",
       "      <td>21.0</td>\n",
       "      <td>2019-12-21</td>\n",
       "      <td>Low-priced</td>\n",
       "      <td>83528.0</td>\n",
       "      <td>13457.0</td>\n",
       "    </tr>\n",
       "  </tbody>\n",
       "</table>\n",
       "<p>184796 rows × 14 columns</p>\n",
       "</div>"
      ],
      "text/plain": [
       "        Unnamed: 0  Order ID                     Product  Quantity Ordered  \\\n",
       "0                1  141234.0                      iPhone               1.0   \n",
       "1                2  141235.0    Lightning Charging Cable               1.0   \n",
       "2                3  141236.0            Wired Headphones               2.0   \n",
       "3                4  141237.0            27in FHD Monitor               1.0   \n",
       "4                5  141238.0            Wired Headphones               1.0   \n",
       "...            ...       ...                         ...               ...   \n",
       "185945      185946  319666.0    Lightning Charging Cable               1.0   \n",
       "185946      185947  319667.0       AA Batteries (4-pack)               2.0   \n",
       "185947      185948  319668.0             Vareebadd Phone               1.0   \n",
       "185948      185949  319669.0            Wired Headphones               1.0   \n",
       "185949      185950  319670.0  Bose SoundSport Headphones               1.0   \n",
       "\n",
       "        Price Each Order_date_&_time            Town  Zip code          State  \\\n",
       "0           700.00    01/22/19 21:25          Boston    2215.0  Massachusetts   \n",
       "1            14.95    01/28/19 14:15        Portland   97035.0         Oregon   \n",
       "2            11.99    01/17/19 13:33   San Francisco   94016.0     California   \n",
       "3           149.99  01/05/2019 20:33     Los Angeles   90001.0     California   \n",
       "4            11.99    01/25/19 11:59          Austin   73301.0          Texas   \n",
       "...            ...               ...             ...       ...            ...   \n",
       "185945       14.95  12/11/2019 20:58   San Francisco   94016.0     California   \n",
       "185946        3.84  12/01/2019 12:01     Los Angeles   90001.0     California   \n",
       "185947      400.00  12/09/2019 06:43         Seattle   98101.0     Washington   \n",
       "185948       11.99  12/03/2019 10:39          Dallas   75001.0          Texas   \n",
       "185949       99.99    12/21/19 21:45     Los Angeles   90001.0     California   \n",
       "\n",
       "        hour        Date Pricing Category  Total_units_per_state  \\\n",
       "0       21.0  2019-01-22       Mid-Priced                22528.0   \n",
       "1       14.0  2019-01-28       Low-priced                11303.0   \n",
       "2       13.0  2019-01-17       Low-priced                83528.0   \n",
       "3       20.0  2019-01-05       Low-priced                83528.0   \n",
       "4       11.0  2019-01-25       Low-priced                27883.0   \n",
       "...      ...         ...              ...                    ...   \n",
       "185945  20.0  2019-12-11       Low-priced                83528.0   \n",
       "185946  12.0  2019-12-01       Low-priced                83528.0   \n",
       "185947   6.0  2019-12-09       Low-priced                16553.0   \n",
       "185948  10.0  2019-12-03       Low-priced                27883.0   \n",
       "185949  21.0  2019-12-21       Low-priced                83528.0   \n",
       "\n",
       "        Total_units_bought  \n",
       "0                   6849.0  \n",
       "1                  23189.0  \n",
       "2                  20505.0  \n",
       "3                   7550.0  \n",
       "4                  20505.0  \n",
       "...                    ...  \n",
       "185945             23189.0  \n",
       "185946             26180.0  \n",
       "185947              2068.0  \n",
       "185948             20505.0  \n",
       "185949             13457.0  \n",
       "\n",
       "[184796 rows x 14 columns]"
      ]
     },
     "execution_count": 59,
     "metadata": {},
     "output_type": "execute_result"
    }
   ],
   "source": [
    "df3"
   ]
  },
  {
   "cell_type": "code",
   "execution_count": 61,
   "id": "76132908",
   "metadata": {},
   "outputs": [
    {
     "data": {
      "image/png": "[encoded data removed]",
      "text/plain": [
       "<Figure size 432x288 with 1 Axes>"
      ]
     },
     "metadata": {
      "needs_background": "light"
     },
     "output_type": "display_data"
    }
   ],
   "source": [
    "# Create a scatterplot using matplotlib for another look at how the chosen variables plot against each other.\n",
    "\n",
    "df3.plot(x = 'Price Each', y='Total_units_bought',style='o') # The style option creates a scatterplot; without it, we only have lines.\n",
    "plt.title('total units vs sale price')  \n",
    "plt.xlabel('Price')  \n",
    "plt.ylabel('total units')  \n",
    "plt.show()"
   ]
  },
  {
   "cell_type": "code",
   "execution_count": 63,
   "id": "be93b2db",
   "metadata": {},
   "outputs": [],
   "source": [
    "# Reshape the variables into NumPy arrays and put them into separate objects.\n",
    "\n",
    "X = df3['Price Each'].values.reshape(-1,1)\n",
    "y = df3['Total_units_bought'].values.reshape(-1,1)"
   ]
  },
  {
   "cell_type": "code",
   "execution_count": 64,
   "id": "8166dae2",
   "metadata": {},
   "outputs": [
    {
     "data": {
      "text/plain": [
       "array([[700.  ],\n",
       "       [ 14.95],\n",
       "       [ 11.99],\n",
       "       ...,\n",
       "       [400.  ],\n",
       "       [ 11.99],\n",
       "       [ 99.99]])"
      ]
     },
     "execution_count": 64,
     "metadata": {},
     "output_type": "execute_result"
    }
   ],
   "source": [
    "X"
   ]
  },
  {
   "cell_type": "code",
   "execution_count": 65,
   "id": "b7d9fecc",
   "metadata": {},
   "outputs": [
    {
     "data": {
      "text/plain": [
       "array([[ 6849.],\n",
       "       [23189.],\n",
       "       [20505.],\n",
       "       ...,\n",
       "       [ 2068.],\n",
       "       [20505.],\n",
       "       [13457.]])"
      ]
     },
     "execution_count": 65,
     "metadata": {},
     "output_type": "execute_result"
    }
   ],
   "source": [
    "y"
   ]
  },
  {
   "cell_type": "code",
   "execution_count": 66,
   "id": "872bb108",
   "metadata": {},
   "outputs": [],
   "source": [
    "# Split data into a training set and a test set.  Using test_train_split\n",
    "X_train, X_test, y_train, y_test = train_test_split(X,y,test_size = 0.3, random_state =0)"
   ]
  },
  {
   "cell_type": "markdown",
   "id": "c95cfd61",
   "metadata": {},
   "source": [
    "#### Regression Analysis"
   ]
  },
  {
   "cell_type": "code",
   "execution_count": 67,
   "id": "fb4997be",
   "metadata": {},
   "outputs": [
    {
     "data": {
      "text/plain": [
       "LinearRegression()"
      ]
     },
     "execution_count": 67,
     "metadata": {},
     "output_type": "execute_result"
    }
   ],
   "source": [
    "regression.fit(X_train, y_train)"
   ]
  },
  {
   "cell_type": "code",
   "execution_count": 68,
   "id": "8ddabf64",
   "metadata": {},
   "outputs": [],
   "source": [
    "y_predicted = regression.predict(X_test)"
   ]
  },
  {
   "cell_type": "code",
   "execution_count": 69,
   "id": "67b8f914",
   "metadata": {},
   "outputs": [
    {
     "data": {
      "image/png": "[encoded data removed]",
      "text/plain": [
       "<Figure size 432x288 with 1 Axes>"
      ]
     },
     "metadata": {
      "needs_background": "light"
     },
     "output_type": "display_data"
    }
   ],
   "source": [
    "# Create a plot that shows the regression line from the model on the test set.\n",
    "plot_test = plt\n",
    "plot_test.scatter(X_test, y_test, color='green', s = 15)\n",
    "plot_test.plot(X_test, y_predicted, color='red', linewidth =3)\n",
    "plot_test.title('total units vs sale price (Test set)')\n",
    "plot_test.xlabel('Price')\n",
    "plot_test.ylabel('total units')\n",
    "plot_test.show()"
   ]
  },
  {
   "cell_type": "code",
   "execution_count": 70,
   "id": "72c3b70a",
   "metadata": {},
   "outputs": [],
   "source": [
    "# Check the slope, MSE and R2 score.\n",
    "# Create objects that contain the model summary statistics.\n",
    "rmse = mean_squared_error(y_test, y_predicted)\n",
    "r2 = r2_score(y_test, y_predicted)"
   ]
  },
  {
   "cell_type": "code",
   "execution_count": 71,
   "id": "1ccc66d5",
   "metadata": {},
   "outputs": [
    {
     "name": "stdout",
     "output_type": "stream",
     "text": [
      "Slope: [[-17.72032283]]\n",
      "Mean squared error:  37394913.833750226\n",
      "R2 score:  0.4808835288188288\n"
     ]
    }
   ],
   "source": [
    "# Check summary stats\n",
    "print('Slope:' ,regression.coef_)\n",
    "print('Mean squared error: ', rmse)\n",
    "print('R2 score: ', r2)"
   ]
  },
  {
   "cell_type": "code",
   "execution_count": 72,
   "id": "44e832e1",
   "metadata": {},
   "outputs": [
    {
     "data": {
      "text/html": [
       "<div>\n",
       "<style scoped>\n",
       "    .dataframe tbody tr th:only-of-type {\n",
       "        vertical-align: middle;\n",
       "    }\n",
       "\n",
       "    .dataframe tbody tr th {\n",
       "        vertical-align: top;\n",
       "    }\n",
       "\n",
       "    .dataframe thead th {\n",
       "        text-align: right;\n",
       "    }\n",
       "</style>\n",
       "<table border=\"1\" class=\"dataframe\">\n",
       "  <thead>\n",
       "    <tr style=\"text-align: right;\">\n",
       "      <th></th>\n",
       "      <th>Actual</th>\n",
       "      <th>Predicted</th>\n",
       "    </tr>\n",
       "  </thead>\n",
       "  <tbody>\n",
       "    <tr>\n",
       "      <th>0</th>\n",
       "      <td>379.99</td>\n",
       "      <td>197.588359</td>\n",
       "    </tr>\n",
       "    <tr>\n",
       "      <th>1</th>\n",
       "      <td>389.99</td>\n",
       "      <td>197.588359</td>\n",
       "    </tr>\n",
       "    <tr>\n",
       "      <th>2</th>\n",
       "      <td>11.99</td>\n",
       "      <td>197.588359</td>\n",
       "    </tr>\n",
       "    <tr>\n",
       "      <th>3</th>\n",
       "      <td>3.84</td>\n",
       "      <td>197.588359</td>\n",
       "    </tr>\n",
       "    <tr>\n",
       "      <th>4</th>\n",
       "      <td>99.99</td>\n",
       "      <td>197.588359</td>\n",
       "    </tr>\n",
       "    <tr>\n",
       "      <th>5</th>\n",
       "      <td>99.99</td>\n",
       "      <td>197.588359</td>\n",
       "    </tr>\n",
       "    <tr>\n",
       "      <th>6</th>\n",
       "      <td>11.95</td>\n",
       "      <td>197.588359</td>\n",
       "    </tr>\n",
       "    <tr>\n",
       "      <th>7</th>\n",
       "      <td>300.00</td>\n",
       "      <td>197.588359</td>\n",
       "    </tr>\n",
       "    <tr>\n",
       "      <th>8</th>\n",
       "      <td>150.00</td>\n",
       "      <td>197.588359</td>\n",
       "    </tr>\n",
       "    <tr>\n",
       "      <th>9</th>\n",
       "      <td>11.95</td>\n",
       "      <td>197.588359</td>\n",
       "    </tr>\n",
       "    <tr>\n",
       "      <th>10</th>\n",
       "      <td>2.99</td>\n",
       "      <td>197.588359</td>\n",
       "    </tr>\n",
       "    <tr>\n",
       "      <th>11</th>\n",
       "      <td>11.99</td>\n",
       "      <td>197.588359</td>\n",
       "    </tr>\n",
       "    <tr>\n",
       "      <th>12</th>\n",
       "      <td>2.99</td>\n",
       "      <td>197.588359</td>\n",
       "    </tr>\n",
       "    <tr>\n",
       "      <th>13</th>\n",
       "      <td>999.99</td>\n",
       "      <td>197.588359</td>\n",
       "    </tr>\n",
       "    <tr>\n",
       "      <th>14</th>\n",
       "      <td>11.95</td>\n",
       "      <td>197.588359</td>\n",
       "    </tr>\n",
       "    <tr>\n",
       "      <th>15</th>\n",
       "      <td>389.99</td>\n",
       "      <td>197.588359</td>\n",
       "    </tr>\n",
       "    <tr>\n",
       "      <th>16</th>\n",
       "      <td>2.99</td>\n",
       "      <td>197.588359</td>\n",
       "    </tr>\n",
       "    <tr>\n",
       "      <th>17</th>\n",
       "      <td>150.00</td>\n",
       "      <td>197.588359</td>\n",
       "    </tr>\n",
       "    <tr>\n",
       "      <th>18</th>\n",
       "      <td>14.95</td>\n",
       "      <td>197.588359</td>\n",
       "    </tr>\n",
       "    <tr>\n",
       "      <th>19</th>\n",
       "      <td>99.99</td>\n",
       "      <td>197.588359</td>\n",
       "    </tr>\n",
       "    <tr>\n",
       "      <th>20</th>\n",
       "      <td>3.84</td>\n",
       "      <td>197.588359</td>\n",
       "    </tr>\n",
       "    <tr>\n",
       "      <th>21</th>\n",
       "      <td>600.00</td>\n",
       "      <td>197.588359</td>\n",
       "    </tr>\n",
       "    <tr>\n",
       "      <th>22</th>\n",
       "      <td>3.84</td>\n",
       "      <td>197.588359</td>\n",
       "    </tr>\n",
       "    <tr>\n",
       "      <th>23</th>\n",
       "      <td>99.99</td>\n",
       "      <td>197.588359</td>\n",
       "    </tr>\n",
       "    <tr>\n",
       "      <th>24</th>\n",
       "      <td>14.95</td>\n",
       "      <td>197.588359</td>\n",
       "    </tr>\n",
       "    <tr>\n",
       "      <th>25</th>\n",
       "      <td>149.99</td>\n",
       "      <td>197.588359</td>\n",
       "    </tr>\n",
       "    <tr>\n",
       "      <th>26</th>\n",
       "      <td>14.95</td>\n",
       "      <td>197.588359</td>\n",
       "    </tr>\n",
       "    <tr>\n",
       "      <th>27</th>\n",
       "      <td>99.99</td>\n",
       "      <td>197.588359</td>\n",
       "    </tr>\n",
       "    <tr>\n",
       "      <th>28</th>\n",
       "      <td>400.00</td>\n",
       "      <td>197.588359</td>\n",
       "    </tr>\n",
       "    <tr>\n",
       "      <th>29</th>\n",
       "      <td>389.99</td>\n",
       "      <td>197.588359</td>\n",
       "    </tr>\n",
       "  </tbody>\n",
       "</table>\n",
       "</div>"
      ],
      "text/plain": [
       "    Actual   Predicted\n",
       "0   379.99  197.588359\n",
       "1   389.99  197.588359\n",
       "2    11.99  197.588359\n",
       "3     3.84  197.588359\n",
       "4    99.99  197.588359\n",
       "5    99.99  197.588359\n",
       "6    11.95  197.588359\n",
       "7   300.00  197.588359\n",
       "8   150.00  197.588359\n",
       "9    11.95  197.588359\n",
       "10    2.99  197.588359\n",
       "11   11.99  197.588359\n",
       "12    2.99  197.588359\n",
       "13  999.99  197.588359\n",
       "14   11.95  197.588359\n",
       "15  389.99  197.588359\n",
       "16    2.99  197.588359\n",
       "17  150.00  197.588359\n",
       "18   14.95  197.588359\n",
       "19   99.99  197.588359\n",
       "20    3.84  197.588359\n",
       "21  600.00  197.588359\n",
       "22    3.84  197.588359\n",
       "23   99.99  197.588359\n",
       "24   14.95  197.588359\n",
       "25  149.99  197.588359\n",
       "26   14.95  197.588359\n",
       "27   99.99  197.588359\n",
       "28  400.00  197.588359\n",
       "29  389.99  197.588359"
      ]
     },
     "execution_count": 72,
     "metadata": {},
     "output_type": "execute_result"
    }
   ],
   "source": [
    "# Create a dataframe comparing the actual and predicted values of y.\n",
    "\n",
    "data1 = pd.DataFrame({'Actual': y_test.flatten(), 'Predicted': y_predicted.flatten()})\n",
    "data.head(30)"
   ]
  },
  {
   "cell_type": "markdown",
   "id": "51cd58d7",
   "metadata": {},
   "source": [
    "#### You can see that the R value is a lot closer to 1 meaning there is a higher colilation between the total number of units and the sale price"
   ]
  },
  {
   "cell_type": "markdown",
   "id": "1dac75d0",
   "metadata": {},
   "source": [
    "#### Try less than $150"
   ]
  },
  {
   "cell_type": "code",
   "execution_count": 73,
   "id": "b65b027d",
   "metadata": {},
   "outputs": [],
   "source": [
    "df4=df3[df3['Price Each']<=150]"
   ]
  },
  {
   "cell_type": "code",
   "execution_count": 74,
   "id": "f543fd37",
   "metadata": {},
   "outputs": [
    {
     "data": {
      "text/html": [
       "<div>\n",
       "<style scoped>\n",
       "    .dataframe tbody tr th:only-of-type {\n",
       "        vertical-align: middle;\n",
       "    }\n",
       "\n",
       "    .dataframe tbody tr th {\n",
       "        vertical-align: top;\n",
       "    }\n",
       "\n",
       "    .dataframe thead th {\n",
       "        text-align: right;\n",
       "    }\n",
       "</style>\n",
       "<table border=\"1\" class=\"dataframe\">\n",
       "  <thead>\n",
       "    <tr style=\"text-align: right;\">\n",
       "      <th></th>\n",
       "      <th>Unnamed: 0</th>\n",
       "      <th>Order ID</th>\n",
       "      <th>Product</th>\n",
       "      <th>Quantity Ordered</th>\n",
       "      <th>Price Each</th>\n",
       "      <th>Order_date_&amp;_time</th>\n",
       "      <th>Town</th>\n",
       "      <th>Zip code</th>\n",
       "      <th>State</th>\n",
       "      <th>hour</th>\n",
       "      <th>Date</th>\n",
       "      <th>Pricing Category</th>\n",
       "      <th>Total_units_per_state</th>\n",
       "      <th>Total_units_bought</th>\n",
       "    </tr>\n",
       "  </thead>\n",
       "  <tbody>\n",
       "    <tr>\n",
       "      <th>1</th>\n",
       "      <td>2</td>\n",
       "      <td>141235.0</td>\n",
       "      <td>Lightning Charging Cable</td>\n",
       "      <td>1.0</td>\n",
       "      <td>14.95</td>\n",
       "      <td>01/28/19 14:15</td>\n",
       "      <td>Portland</td>\n",
       "      <td>97035.0</td>\n",
       "      <td>Oregon</td>\n",
       "      <td>14.0</td>\n",
       "      <td>2019-01-28</td>\n",
       "      <td>Low-priced</td>\n",
       "      <td>11303.0</td>\n",
       "      <td>23189.0</td>\n",
       "    </tr>\n",
       "    <tr>\n",
       "      <th>2</th>\n",
       "      <td>3</td>\n",
       "      <td>141236.0</td>\n",
       "      <td>Wired Headphones</td>\n",
       "      <td>2.0</td>\n",
       "      <td>11.99</td>\n",
       "      <td>01/17/19 13:33</td>\n",
       "      <td>San Francisco</td>\n",
       "      <td>94016.0</td>\n",
       "      <td>California</td>\n",
       "      <td>13.0</td>\n",
       "      <td>2019-01-17</td>\n",
       "      <td>Low-priced</td>\n",
       "      <td>83528.0</td>\n",
       "      <td>20505.0</td>\n",
       "    </tr>\n",
       "    <tr>\n",
       "      <th>3</th>\n",
       "      <td>4</td>\n",
       "      <td>141237.0</td>\n",
       "      <td>27in FHD Monitor</td>\n",
       "      <td>1.0</td>\n",
       "      <td>149.99</td>\n",
       "      <td>01/05/2019 20:33</td>\n",
       "      <td>Los Angeles</td>\n",
       "      <td>90001.0</td>\n",
       "      <td>California</td>\n",
       "      <td>20.0</td>\n",
       "      <td>2019-01-05</td>\n",
       "      <td>Low-priced</td>\n",
       "      <td>83528.0</td>\n",
       "      <td>7550.0</td>\n",
       "    </tr>\n",
       "    <tr>\n",
       "      <th>4</th>\n",
       "      <td>5</td>\n",
       "      <td>141238.0</td>\n",
       "      <td>Wired Headphones</td>\n",
       "      <td>1.0</td>\n",
       "      <td>11.99</td>\n",
       "      <td>01/25/19 11:59</td>\n",
       "      <td>Austin</td>\n",
       "      <td>73301.0</td>\n",
       "      <td>Texas</td>\n",
       "      <td>11.0</td>\n",
       "      <td>2019-01-25</td>\n",
       "      <td>Low-priced</td>\n",
       "      <td>27883.0</td>\n",
       "      <td>20505.0</td>\n",
       "    </tr>\n",
       "    <tr>\n",
       "      <th>5</th>\n",
       "      <td>6</td>\n",
       "      <td>141239.0</td>\n",
       "      <td>AAA Batteries (4-pack)</td>\n",
       "      <td>1.0</td>\n",
       "      <td>2.99</td>\n",
       "      <td>01/29/19 20:22</td>\n",
       "      <td>San Francisco</td>\n",
       "      <td>94016.0</td>\n",
       "      <td>California</td>\n",
       "      <td>20.0</td>\n",
       "      <td>2019-01-29</td>\n",
       "      <td>Low-priced</td>\n",
       "      <td>83528.0</td>\n",
       "      <td>27492.0</td>\n",
       "    </tr>\n",
       "  </tbody>\n",
       "</table>\n",
       "</div>"
      ],
      "text/plain": [
       "   Unnamed: 0  Order ID                   Product  Quantity Ordered  \\\n",
       "1           2  141235.0  Lightning Charging Cable               1.0   \n",
       "2           3  141236.0          Wired Headphones               2.0   \n",
       "3           4  141237.0          27in FHD Monitor               1.0   \n",
       "4           5  141238.0          Wired Headphones               1.0   \n",
       "5           6  141239.0    AAA Batteries (4-pack)               1.0   \n",
       "\n",
       "   Price Each Order_date_&_time            Town  Zip code       State  hour  \\\n",
       "1       14.95    01/28/19 14:15        Portland   97035.0      Oregon  14.0   \n",
       "2       11.99    01/17/19 13:33   San Francisco   94016.0  California  13.0   \n",
       "3      149.99  01/05/2019 20:33     Los Angeles   90001.0  California  20.0   \n",
       "4       11.99    01/25/19 11:59          Austin   73301.0       Texas  11.0   \n",
       "5        2.99    01/29/19 20:22   San Francisco   94016.0  California  20.0   \n",
       "\n",
       "         Date Pricing Category  Total_units_per_state  Total_units_bought  \n",
       "1  2019-01-28       Low-priced                11303.0             23189.0  \n",
       "2  2019-01-17       Low-priced                83528.0             20505.0  \n",
       "3  2019-01-05       Low-priced                83528.0              7550.0  \n",
       "4  2019-01-25       Low-priced                27883.0             20505.0  \n",
       "5  2019-01-29       Low-priced                83528.0             27492.0  "
      ]
     },
     "execution_count": 74,
     "metadata": {},
     "output_type": "execute_result"
    }
   ],
   "source": [
    "df4.head()"
   ]
  },
  {
   "cell_type": "code",
   "execution_count": 75,
   "id": "4ea40b40",
   "metadata": {},
   "outputs": [
    {
     "data": {
      "image/png": "[encoded data removed]",
      "text/plain": [
       "<Figure size 432x288 with 1 Axes>"
      ]
     },
     "metadata": {
      "needs_background": "light"
     },
     "output_type": "display_data"
    }
   ],
   "source": [
    "# Create a scatterplot using matplotlib for another look at how the chosen variables plot against each other.\n",
    "\n",
    "df4.plot(x = 'Price Each', y='Total_units_bought',style='o') # The style option creates a scatterplot; without it, we only have lines.\n",
    "plt.title('Price vs total units bought')  \n",
    "plt.xlabel('price')  \n",
    "plt.ylabel('Total units bought')  \n",
    "plt.show()"
   ]
  },
  {
   "cell_type": "code",
   "execution_count": 78,
   "id": "5ca8cdde",
   "metadata": {},
   "outputs": [],
   "source": [
    "# Reshape the variables into NumPy arrays and put them into separate objects.\n",
    "\n",
    "X = df4['Price Each'].values.reshape(-1,1)\n",
    "y = df4['Total_units_bought'].values.reshape(-1,1)"
   ]
  },
  {
   "cell_type": "code",
   "execution_count": 79,
   "id": "1132473a",
   "metadata": {},
   "outputs": [],
   "source": [
    "# Split data into a training set and a test set.\n",
    "\n",
    "X_train, X_test, y_train, y_test = train_test_split(X, y, test_size=0.3, random_state=0)"
   ]
  },
  {
   "cell_type": "code",
   "execution_count": 80,
   "id": "9d0eef23",
   "metadata": {},
   "outputs": [
    {
     "data": {
      "text/plain": [
       "LinearRegression()"
      ]
     },
     "execution_count": 80,
     "metadata": {},
     "output_type": "execute_result"
    }
   ],
   "source": [
    "# Fit the regression object onto the training set.\n",
    "\n",
    "regression.fit(X_train, y_train)"
   ]
  },
  {
   "cell_type": "code",
   "execution_count": 81,
   "id": "59f93acf",
   "metadata": {},
   "outputs": [],
   "source": [
    "# Predict the values of y using X.\n",
    "\n",
    "y_predicted = regression.predict(X_test)"
   ]
  },
  {
   "cell_type": "code",
   "execution_count": 83,
   "id": "46a8ddec",
   "metadata": {},
   "outputs": [
    {
     "data": {
      "image/png": "[encoded data removed]",
      "text/plain": [
       "<Figure size 432x288 with 1 Axes>"
      ]
     },
     "metadata": {
      "needs_background": "light"
     },
     "output_type": "display_data"
    }
   ],
   "source": [
    "# Create a plot that shows the regression line from the model on the test set.\n",
    "\n",
    "plot_test = plt\n",
    "plot_test.scatter(X_test, y_test, color='green', s = 15)\n",
    "plot_test.plot(X_test, y_predicted, color='red', linewidth =3)\n",
    "plot_test.title('Price vs total units bought (Test set)')\n",
    "plot_test.xlabel('price')\n",
    "plot_test.ylabel('Total units bought')\n",
    "plot_test.show()"
   ]
  },
  {
   "cell_type": "code",
   "execution_count": 84,
   "id": "aa786a22",
   "metadata": {},
   "outputs": [
    {
     "name": "stdout",
     "output_type": "stream",
     "text": [
      "Slope: [[-95.21672279]]\n",
      "Mean squared error:  9664007.537170218\n",
      "R2 score:  0.744780904894757\n"
     ]
    }
   ],
   "source": [
    "# Create objects that contain the model summary statistics.\n",
    "\n",
    "rmse = mean_squared_error(y_test, y_predicted) # This is the mean squared error\n",
    "r2 = r2_score(y_test, y_predicted) # This is the R2 score. \n",
    "\n",
    "# Print the model summary statistics. This is where you evaluate the performance of the model.\n",
    "\n",
    "print('Slope:' ,regression.coef_)\n",
    "print('Mean squared error: ', rmse)\n",
    "print('R2 score: ', r2)"
   ]
  },
  {
   "cell_type": "markdown",
   "id": "52afed35",
   "metadata": {},
   "source": [
    "#### As you can see once you limit the stock to less than $150 then the R score moves even closer to 1 making the corrilation good and a model you could build a predictove analysis from "
   ]
  },
  {
   "cell_type": "code",
   "execution_count": null,
   "id": "7b4a3f07",
   "metadata": {},
   "outputs": [],
   "source": []
  }
 ],
 "metadata": {
  "kernelspec": {
   "display_name": "Python 3 (ipykernel)",
   "language": "python",
   "name": "python3"
  },
  "language_info": {
   "codemirror_mode": {
    "name": "ipython",
    "version": 3
   },
   "file_extension": ".py",
   "mimetype": "text/x-python",
   "name": "python",
   "nbconvert_exporter": "python",
   "pygments_lexer": "ipython3",
   "version": "3.9.12"
  }
 },
 "nbformat": 4,
 "nbformat_minor": 5
}
