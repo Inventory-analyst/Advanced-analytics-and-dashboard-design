{
 "cells": [
  {
   "cell_type": "markdown",
   "id": "00207f80",
   "metadata": {},
   "source": [
    "# Tech Sales  \n",
    "\n",
    "Table of Contents\n",
    "1. ### Import libraries\n",
    "2. ### Import Data\n",
    "3. ### Data Wrangling  \n",
    "a. Add column to show states     \n",
    "4. ### Data Cleaning nad Consistency Check  \n",
    "a. Check for missing data  \n",
    "b. Check for duplicates  \n",
    "c. Check for mixed data types  "
   ]
  },
  {
   "cell_type": "markdown",
   "id": "846062af",
   "metadata": {},
   "source": [
    "### 1. Import libraries"
   ]
  },
  {
   "cell_type": "code",
   "execution_count": 1,
   "id": "0d3cddb9",
   "metadata": {
    "ExecuteTime": {
     "end_time": "2022-12-22T13:35:54.937703Z",
     "start_time": "2022-12-22T13:35:54.927321Z"
    }
   },
   "outputs": [],
   "source": [
    "# Import libraries\n",
    "import pandas as pd\n",
    "import numpy as np\n",
    "import os"
   ]
  },
  {
   "cell_type": "code",
   "execution_count": 2,
   "id": "113a9451",
   "metadata": {
    "ExecuteTime": {
     "end_time": "2022-12-22T13:35:55.820527Z",
     "start_time": "2022-12-22T13:35:55.816272Z"
    }
   },
   "outputs": [],
   "source": [
    "# create path\n",
    "path = r'C:\\Users\\Hello\\Desktop\\Tech sales data'"
   ]
  },
  {
   "cell_type": "markdown",
   "id": "2dcfb204",
   "metadata": {},
   "source": [
    "### 2. Import Data"
   ]
  },
  {
   "cell_type": "code",
   "execution_count": 3,
   "id": "8151abd6",
   "metadata": {
    "ExecuteTime": {
     "end_time": "2022-12-22T13:35:56.716192Z",
     "start_time": "2022-12-22T13:35:56.663668Z"
    }
   },
   "outputs": [],
   "source": [
    "# import boat_data.csv\n",
    "df_tech = pd.read_csv(os.path.join(path, '2019 tech sales.csv'), index_col = False)\n",
    "df_County = pd.read_csv(os.path.join(path, 'ABB for States 1.csv'), index_col = False)"
   ]
  },
  {
   "cell_type": "code",
   "execution_count": 4,
   "id": "99e9ee80",
   "metadata": {
    "ExecuteTime": {
     "end_time": "2022-12-22T13:35:56.908445Z",
     "start_time": "2022-12-22T13:35:56.885909Z"
    }
   },
   "outputs": [
    {
     "data": {
      "text/html": [
       "<div>\n",
       "<style scoped>\n",
       "    .dataframe tbody tr th:only-of-type {\n",
       "        vertical-align: middle;\n",
       "    }\n",
       "\n",
       "    .dataframe tbody tr th {\n",
       "        vertical-align: top;\n",
       "    }\n",
       "\n",
       "    .dataframe thead th {\n",
       "        text-align: right;\n",
       "    }\n",
       "</style>\n",
       "<table border=\"1\" class=\"dataframe\">\n",
       "  <thead>\n",
       "    <tr style=\"text-align: right;\">\n",
       "      <th></th>\n",
       "      <th>Order ID</th>\n",
       "      <th>Product</th>\n",
       "      <th>Quantity Ordered</th>\n",
       "      <th>Price Each</th>\n",
       "      <th>Date</th>\n",
       "      <th>Time</th>\n",
       "      <th>Town</th>\n",
       "      <th>ABB</th>\n",
       "      <th>Zip Code</th>\n",
       "    </tr>\n",
       "  </thead>\n",
       "  <tbody>\n",
       "    <tr>\n",
       "      <th>0</th>\n",
       "      <td>141234</td>\n",
       "      <td>iPhone</td>\n",
       "      <td>1</td>\n",
       "      <td>700.00</td>\n",
       "      <td>22/01/2019</td>\n",
       "      <td>21:25</td>\n",
       "      <td>Boston</td>\n",
       "      <td>MA</td>\n",
       "      <td>2215</td>\n",
       "    </tr>\n",
       "    <tr>\n",
       "      <th>1</th>\n",
       "      <td>141235</td>\n",
       "      <td>Lightning Charging Cable</td>\n",
       "      <td>1</td>\n",
       "      <td>14.95</td>\n",
       "      <td>28/01/2019</td>\n",
       "      <td>14:15</td>\n",
       "      <td>Portland</td>\n",
       "      <td>OR</td>\n",
       "      <td>97035</td>\n",
       "    </tr>\n",
       "    <tr>\n",
       "      <th>2</th>\n",
       "      <td>141236</td>\n",
       "      <td>Wired Headphones</td>\n",
       "      <td>2</td>\n",
       "      <td>11.99</td>\n",
       "      <td>17/01/2019</td>\n",
       "      <td>13:33</td>\n",
       "      <td>San Francisco</td>\n",
       "      <td>CA</td>\n",
       "      <td>94016</td>\n",
       "    </tr>\n",
       "    <tr>\n",
       "      <th>3</th>\n",
       "      <td>141237</td>\n",
       "      <td>27in FHD Monitor</td>\n",
       "      <td>1</td>\n",
       "      <td>149.99</td>\n",
       "      <td>05/01/2019</td>\n",
       "      <td>20:33</td>\n",
       "      <td>Los Angeles</td>\n",
       "      <td>CA</td>\n",
       "      <td>90001</td>\n",
       "    </tr>\n",
       "    <tr>\n",
       "      <th>4</th>\n",
       "      <td>141238</td>\n",
       "      <td>Wired Headphones</td>\n",
       "      <td>1</td>\n",
       "      <td>11.99</td>\n",
       "      <td>25/01/2019</td>\n",
       "      <td>11:59</td>\n",
       "      <td>Austin</td>\n",
       "      <td>TX</td>\n",
       "      <td>73301</td>\n",
       "    </tr>\n",
       "  </tbody>\n",
       "</table>\n",
       "</div>"
      ],
      "text/plain": [
       "   Order ID                   Product  Quantity Ordered  Price Each  \\\n",
       "0    141234                    iPhone                 1      700.00   \n",
       "1    141235  Lightning Charging Cable                 1       14.95   \n",
       "2    141236          Wired Headphones                 2       11.99   \n",
       "3    141237          27in FHD Monitor                 1      149.99   \n",
       "4    141238          Wired Headphones                 1       11.99   \n",
       "\n",
       "         Date   Time            Town ABB  Zip Code  \n",
       "0  22/01/2019  21:25          Boston  MA      2215  \n",
       "1  28/01/2019  14:15        Portland  OR     97035  \n",
       "2  17/01/2019  13:33   San Francisco  CA     94016  \n",
       "3  05/01/2019  20:33     Los Angeles  CA     90001  \n",
       "4  25/01/2019  11:59          Austin  TX     73301  "
      ]
     },
     "execution_count": 4,
     "metadata": {},
     "output_type": "execute_result"
    }
   ],
   "source": [
    "df_tech.head()"
   ]
  },
  {
   "cell_type": "code",
   "execution_count": 5,
   "id": "c5c0e410",
   "metadata": {
    "ExecuteTime": {
     "end_time": "2022-12-22T13:35:57.163371Z",
     "start_time": "2022-12-22T13:35:57.158479Z"
    }
   },
   "outputs": [
    {
     "data": {
      "text/plain": [
       "(185686, 9)"
      ]
     },
     "execution_count": 5,
     "metadata": {},
     "output_type": "execute_result"
    }
   ],
   "source": [
    "# check the shape of the dataframe\n",
    "df_tech.shape"
   ]
  },
  {
   "cell_type": "code",
   "execution_count": 6,
   "id": "46b0ada0",
   "metadata": {
    "ExecuteTime": {
     "end_time": "2022-12-22T13:35:57.470533Z",
     "start_time": "2022-12-22T13:35:57.444162Z"
    }
   },
   "outputs": [
    {
     "name": "stdout",
     "output_type": "stream",
     "text": [
      "<class 'pandas.core.frame.DataFrame'>\n",
      "RangeIndex: 185686 entries, 0 to 185685\n",
      "Data columns (total 9 columns):\n",
      " #   Column            Non-Null Count   Dtype  \n",
      "---  ------            --------------   -----  \n",
      " 0   Order ID          185686 non-null  int64  \n",
      " 1   Product           185686 non-null  object \n",
      " 2   Quantity Ordered  185686 non-null  int64  \n",
      " 3   Price Each        185686 non-null  float64\n",
      " 4   Date              185686 non-null  object \n",
      " 5   Time              185686 non-null  object \n",
      " 6   Town              185686 non-null  object \n",
      " 7   ABB               185686 non-null  object \n",
      " 8   Zip Code          185686 non-null  int64  \n",
      "dtypes: float64(1), int64(3), object(5)\n",
      "memory usage: 12.8+ MB\n"
     ]
    }
   ],
   "source": [
    "# check the information of each column\n",
    "df_tech.info()"
   ]
  },
  {
   "cell_type": "code",
   "execution_count": 7,
   "id": "d386b3cd",
   "metadata": {
    "ExecuteTime": {
     "end_time": "2022-12-22T13:35:58.105512Z",
     "start_time": "2022-12-22T13:35:58.082318Z"
    }
   },
   "outputs": [
    {
     "data": {
      "text/html": [
       "<div>\n",
       "<style scoped>\n",
       "    .dataframe tbody tr th:only-of-type {\n",
       "        vertical-align: middle;\n",
       "    }\n",
       "\n",
       "    .dataframe tbody tr th {\n",
       "        vertical-align: top;\n",
       "    }\n",
       "\n",
       "    .dataframe thead th {\n",
       "        text-align: right;\n",
       "    }\n",
       "</style>\n",
       "<table border=\"1\" class=\"dataframe\">\n",
       "  <thead>\n",
       "    <tr style=\"text-align: right;\">\n",
       "      <th></th>\n",
       "      <th>Order ID</th>\n",
       "      <th>Quantity Ordered</th>\n",
       "      <th>Price Each</th>\n",
       "      <th>Zip Code</th>\n",
       "    </tr>\n",
       "  </thead>\n",
       "  <tbody>\n",
       "    <tr>\n",
       "      <th>count</th>\n",
       "      <td>185686.000000</td>\n",
       "      <td>185686.000000</td>\n",
       "      <td>185686.000000</td>\n",
       "      <td>185686.000000</td>\n",
       "    </tr>\n",
       "    <tr>\n",
       "      <th>mean</th>\n",
       "      <td>230411.376227</td>\n",
       "      <td>1.124544</td>\n",
       "      <td>184.519255</td>\n",
       "      <td>63876.520912</td>\n",
       "    </tr>\n",
       "    <tr>\n",
       "      <th>std</th>\n",
       "      <td>51511.717183</td>\n",
       "      <td>0.443069</td>\n",
       "      <td>332.843838</td>\n",
       "      <td>37776.402046</td>\n",
       "    </tr>\n",
       "    <tr>\n",
       "      <th>min</th>\n",
       "      <td>141234.000000</td>\n",
       "      <td>1.000000</td>\n",
       "      <td>2.990000</td>\n",
       "      <td>2215.000000</td>\n",
       "    </tr>\n",
       "    <tr>\n",
       "      <th>25%</th>\n",
       "      <td>185833.250000</td>\n",
       "      <td>1.000000</td>\n",
       "      <td>11.950000</td>\n",
       "      <td>10001.000000</td>\n",
       "    </tr>\n",
       "    <tr>\n",
       "      <th>50%</th>\n",
       "      <td>230354.500000</td>\n",
       "      <td>1.000000</td>\n",
       "      <td>14.950000</td>\n",
       "      <td>90001.000000</td>\n",
       "    </tr>\n",
       "    <tr>\n",
       "      <th>75%</th>\n",
       "      <td>275028.750000</td>\n",
       "      <td>1.000000</td>\n",
       "      <td>150.000000</td>\n",
       "      <td>94016.000000</td>\n",
       "    </tr>\n",
       "    <tr>\n",
       "      <th>max</th>\n",
       "      <td>319670.000000</td>\n",
       "      <td>9.000000</td>\n",
       "      <td>1700.000000</td>\n",
       "      <td>98101.000000</td>\n",
       "    </tr>\n",
       "  </tbody>\n",
       "</table>\n",
       "</div>"
      ],
      "text/plain": [
       "            Order ID  Quantity Ordered     Price Each       Zip Code\n",
       "count  185686.000000     185686.000000  185686.000000  185686.000000\n",
       "mean   230411.376227          1.124544     184.519255   63876.520912\n",
       "std     51511.717183          0.443069     332.843838   37776.402046\n",
       "min    141234.000000          1.000000       2.990000    2215.000000\n",
       "25%    185833.250000          1.000000      11.950000   10001.000000\n",
       "50%    230354.500000          1.000000      14.950000   90001.000000\n",
       "75%    275028.750000          1.000000     150.000000   94016.000000\n",
       "max    319670.000000          9.000000    1700.000000   98101.000000"
      ]
     },
     "execution_count": 7,
     "metadata": {},
     "output_type": "execute_result"
    }
   ],
   "source": [
    "df_tech.describe()"
   ]
  },
  {
   "cell_type": "markdown",
   "id": "2fc7c872",
   "metadata": {},
   "source": [
    "### 03 Data Wrangling"
   ]
  },
  {
   "cell_type": "code",
   "execution_count": 8,
   "id": "99897f0f",
   "metadata": {
    "ExecuteTime": {
     "end_time": "2022-12-22T13:35:58.716061Z",
     "start_time": "2022-12-22T13:35:58.706280Z"
    }
   },
   "outputs": [],
   "source": [
    "df_tech = pd.merge(df_tech, df_County, \n",
    "                   on='ABB', \n",
    "                   how='left')"
   ]
  },
  {
   "cell_type": "code",
   "execution_count": 9,
   "id": "2e750c1e",
   "metadata": {
    "ExecuteTime": {
     "end_time": "2022-12-22T13:35:58.965463Z",
     "start_time": "2022-12-22T13:35:58.957319Z"
    }
   },
   "outputs": [
    {
     "data": {
      "text/plain": [
       "USB-C Charging Cable          21859\n",
       "Lightning Charging Cable      21610\n",
       "AAA Batteries (4-pack)        20612\n",
       "AA Batteries (4-pack)         20558\n",
       "Wired Headphones              18849\n",
       "Apple Airpods Headphones      15525\n",
       "Bose SoundSport Headphones    13298\n",
       "27in FHD Monitor               7498\n",
       "iPhone                         6840\n",
       "27in 4K Gaming Monitor         6225\n",
       "34in Ultrawide Monitor         6174\n",
       "Google Phone                   5522\n",
       "Flatscreen TV                  4794\n",
       "Macbook Pro Laptop             4721\n",
       "ThinkPad Laptop                4126\n",
       "20in Monitor                   4098\n",
       "Vareebadd Phone                2065\n",
       "LG Washing Machine              666\n",
       "LG Dryer                        646\n",
       "Name: Product, dtype: int64"
      ]
     },
     "execution_count": 9,
     "metadata": {},
     "output_type": "execute_result"
    }
   ],
   "source": [
    "# count of curreny used\n",
    "df_tech['Product'].value_counts(dropna = False)"
   ]
  },
  {
   "cell_type": "code",
   "execution_count": 10,
   "id": "73f489f2",
   "metadata": {
    "ExecuteTime": {
     "end_time": "2022-12-22T13:35:59.665076Z",
     "start_time": "2022-12-22T13:35:59.658456Z"
    }
   },
   "outputs": [],
   "source": [
    "# change data type of price to interger\n",
    "df_tech['Price Each'] = df_tech['Price Each'].astype('int')"
   ]
  },
  {
   "cell_type": "code",
   "execution_count": 11,
   "id": "27d71e5e",
   "metadata": {
    "ExecuteTime": {
     "end_time": "2022-12-22T13:36:02.358338Z",
     "start_time": "2022-12-22T13:36:02.341863Z"
    }
   },
   "outputs": [
    {
     "data": {
      "text/html": [
       "<div>\n",
       "<style scoped>\n",
       "    .dataframe tbody tr th:only-of-type {\n",
       "        vertical-align: middle;\n",
       "    }\n",
       "\n",
       "    .dataframe tbody tr th {\n",
       "        vertical-align: top;\n",
       "    }\n",
       "\n",
       "    .dataframe thead th {\n",
       "        text-align: right;\n",
       "    }\n",
       "</style>\n",
       "<table border=\"1\" class=\"dataframe\">\n",
       "  <thead>\n",
       "    <tr style=\"text-align: right;\">\n",
       "      <th></th>\n",
       "      <th>Order ID</th>\n",
       "      <th>Product</th>\n",
       "      <th>Quantity Ordered</th>\n",
       "      <th>Price Each</th>\n",
       "      <th>Date</th>\n",
       "      <th>Time</th>\n",
       "      <th>Town</th>\n",
       "      <th>ABB</th>\n",
       "      <th>Zip Code</th>\n",
       "      <th>State</th>\n",
       "    </tr>\n",
       "  </thead>\n",
       "  <tbody>\n",
       "    <tr>\n",
       "      <th>0</th>\n",
       "      <td>141234</td>\n",
       "      <td>iPhone</td>\n",
       "      <td>1</td>\n",
       "      <td>700</td>\n",
       "      <td>22/01/2019</td>\n",
       "      <td>21:25</td>\n",
       "      <td>Boston</td>\n",
       "      <td>MA</td>\n",
       "      <td>2215</td>\n",
       "      <td>Massachusetts</td>\n",
       "    </tr>\n",
       "    <tr>\n",
       "      <th>1</th>\n",
       "      <td>141235</td>\n",
       "      <td>Lightning Charging Cable</td>\n",
       "      <td>1</td>\n",
       "      <td>14</td>\n",
       "      <td>28/01/2019</td>\n",
       "      <td>14:15</td>\n",
       "      <td>Portland</td>\n",
       "      <td>OR</td>\n",
       "      <td>97035</td>\n",
       "      <td>Oregon</td>\n",
       "    </tr>\n",
       "    <tr>\n",
       "      <th>2</th>\n",
       "      <td>141236</td>\n",
       "      <td>Wired Headphones</td>\n",
       "      <td>2</td>\n",
       "      <td>11</td>\n",
       "      <td>17/01/2019</td>\n",
       "      <td>13:33</td>\n",
       "      <td>San Francisco</td>\n",
       "      <td>CA</td>\n",
       "      <td>94016</td>\n",
       "      <td>California</td>\n",
       "    </tr>\n",
       "    <tr>\n",
       "      <th>3</th>\n",
       "      <td>141237</td>\n",
       "      <td>27in FHD Monitor</td>\n",
       "      <td>1</td>\n",
       "      <td>149</td>\n",
       "      <td>05/01/2019</td>\n",
       "      <td>20:33</td>\n",
       "      <td>Los Angeles</td>\n",
       "      <td>CA</td>\n",
       "      <td>90001</td>\n",
       "      <td>California</td>\n",
       "    </tr>\n",
       "    <tr>\n",
       "      <th>4</th>\n",
       "      <td>141238</td>\n",
       "      <td>Wired Headphones</td>\n",
       "      <td>1</td>\n",
       "      <td>11</td>\n",
       "      <td>25/01/2019</td>\n",
       "      <td>11:59</td>\n",
       "      <td>Austin</td>\n",
       "      <td>TX</td>\n",
       "      <td>73301</td>\n",
       "      <td>Texas</td>\n",
       "    </tr>\n",
       "  </tbody>\n",
       "</table>\n",
       "</div>"
      ],
      "text/plain": [
       "   Order ID                   Product  Quantity Ordered  Price Each  \\\n",
       "0    141234                    iPhone                 1         700   \n",
       "1    141235  Lightning Charging Cable                 1          14   \n",
       "2    141236          Wired Headphones                 2          11   \n",
       "3    141237          27in FHD Monitor                 1         149   \n",
       "4    141238          Wired Headphones                 1          11   \n",
       "\n",
       "         Date   Time            Town ABB  Zip Code          State  \n",
       "0  22/01/2019  21:25          Boston  MA      2215  Massachusetts  \n",
       "1  28/01/2019  14:15        Portland  OR     97035         Oregon  \n",
       "2  17/01/2019  13:33   San Francisco  CA     94016     California  \n",
       "3  05/01/2019  20:33     Los Angeles  CA     90001     California  \n",
       "4  25/01/2019  11:59          Austin  TX     73301          Texas  "
      ]
     },
     "execution_count": 11,
     "metadata": {},
     "output_type": "execute_result"
    }
   ],
   "source": [
    "# check the dataframe\n",
    "df_tech.head()"
   ]
  },
  {
   "cell_type": "code",
   "execution_count": 12,
   "id": "aa93f7b9",
   "metadata": {
    "ExecuteTime": {
     "end_time": "2022-12-22T13:36:03.194120Z",
     "start_time": "2022-12-22T13:36:03.166184Z"
    }
   },
   "outputs": [],
   "source": [
    "# delete redundant column\n",
    "del df_tech['ABB']"
   ]
  },
  {
   "cell_type": "code",
   "execution_count": 13,
   "id": "6e40867e",
   "metadata": {
    "ExecuteTime": {
     "end_time": "2022-12-22T13:36:04.188250Z",
     "start_time": "2022-12-22T13:36:04.171244Z"
    },
    "scrolled": true
   },
   "outputs": [
    {
     "data": {
      "text/html": [
       "<div>\n",
       "<style scoped>\n",
       "    .dataframe tbody tr th:only-of-type {\n",
       "        vertical-align: middle;\n",
       "    }\n",
       "\n",
       "    .dataframe tbody tr th {\n",
       "        vertical-align: top;\n",
       "    }\n",
       "\n",
       "    .dataframe thead th {\n",
       "        text-align: right;\n",
       "    }\n",
       "</style>\n",
       "<table border=\"1\" class=\"dataframe\">\n",
       "  <thead>\n",
       "    <tr style=\"text-align: right;\">\n",
       "      <th></th>\n",
       "      <th>Order ID</th>\n",
       "      <th>Product</th>\n",
       "      <th>Quantity Ordered</th>\n",
       "      <th>Price Each</th>\n",
       "      <th>Date</th>\n",
       "      <th>Time</th>\n",
       "      <th>Town</th>\n",
       "      <th>Zip Code</th>\n",
       "      <th>State</th>\n",
       "    </tr>\n",
       "  </thead>\n",
       "  <tbody>\n",
       "    <tr>\n",
       "      <th>0</th>\n",
       "      <td>141234</td>\n",
       "      <td>iPhone</td>\n",
       "      <td>1</td>\n",
       "      <td>700</td>\n",
       "      <td>22/01/2019</td>\n",
       "      <td>21:25</td>\n",
       "      <td>Boston</td>\n",
       "      <td>2215</td>\n",
       "      <td>Massachusetts</td>\n",
       "    </tr>\n",
       "    <tr>\n",
       "      <th>1</th>\n",
       "      <td>141235</td>\n",
       "      <td>Lightning Charging Cable</td>\n",
       "      <td>1</td>\n",
       "      <td>14</td>\n",
       "      <td>28/01/2019</td>\n",
       "      <td>14:15</td>\n",
       "      <td>Portland</td>\n",
       "      <td>97035</td>\n",
       "      <td>Oregon</td>\n",
       "    </tr>\n",
       "    <tr>\n",
       "      <th>2</th>\n",
       "      <td>141236</td>\n",
       "      <td>Wired Headphones</td>\n",
       "      <td>2</td>\n",
       "      <td>11</td>\n",
       "      <td>17/01/2019</td>\n",
       "      <td>13:33</td>\n",
       "      <td>San Francisco</td>\n",
       "      <td>94016</td>\n",
       "      <td>California</td>\n",
       "    </tr>\n",
       "    <tr>\n",
       "      <th>3</th>\n",
       "      <td>141237</td>\n",
       "      <td>27in FHD Monitor</td>\n",
       "      <td>1</td>\n",
       "      <td>149</td>\n",
       "      <td>05/01/2019</td>\n",
       "      <td>20:33</td>\n",
       "      <td>Los Angeles</td>\n",
       "      <td>90001</td>\n",
       "      <td>California</td>\n",
       "    </tr>\n",
       "    <tr>\n",
       "      <th>4</th>\n",
       "      <td>141238</td>\n",
       "      <td>Wired Headphones</td>\n",
       "      <td>1</td>\n",
       "      <td>11</td>\n",
       "      <td>25/01/2019</td>\n",
       "      <td>11:59</td>\n",
       "      <td>Austin</td>\n",
       "      <td>73301</td>\n",
       "      <td>Texas</td>\n",
       "    </tr>\n",
       "  </tbody>\n",
       "</table>\n",
       "</div>"
      ],
      "text/plain": [
       "   Order ID                   Product  Quantity Ordered  Price Each  \\\n",
       "0    141234                    iPhone                 1         700   \n",
       "1    141235  Lightning Charging Cable                 1          14   \n",
       "2    141236          Wired Headphones                 2          11   \n",
       "3    141237          27in FHD Monitor                 1         149   \n",
       "4    141238          Wired Headphones                 1          11   \n",
       "\n",
       "         Date   Time            Town  Zip Code          State  \n",
       "0  22/01/2019  21:25          Boston      2215  Massachusetts  \n",
       "1  28/01/2019  14:15        Portland     97035         Oregon  \n",
       "2  17/01/2019  13:33   San Francisco     94016     California  \n",
       "3  05/01/2019  20:33     Los Angeles     90001     California  \n",
       "4  25/01/2019  11:59          Austin     73301          Texas  "
      ]
     },
     "execution_count": 13,
     "metadata": {},
     "output_type": "execute_result"
    }
   ],
   "source": [
    "# check the dataframe\n",
    "df_tech.head()"
   ]
  },
  {
   "cell_type": "markdown",
   "id": "2b62b786",
   "metadata": {},
   "source": [
    "### 04. Cleaning"
   ]
  },
  {
   "cell_type": "code",
   "execution_count": 14,
   "id": "adf86a2b",
   "metadata": {
    "ExecuteTime": {
     "end_time": "2022-12-22T13:37:42.057705Z",
     "start_time": "2022-12-22T13:37:42.035673Z"
    }
   },
   "outputs": [
    {
     "data": {
      "text/plain": [
       "Order ID            0\n",
       "Product             0\n",
       "Quantity Ordered    0\n",
       "Price Each          0\n",
       "Date                0\n",
       "Time                0\n",
       "Town                0\n",
       "Zip Code            0\n",
       "State               0\n",
       "dtype: int64"
      ]
     },
     "execution_count": 14,
     "metadata": {},
     "output_type": "execute_result"
    }
   ],
   "source": [
    "# check for missing values\n",
    "df_tech.isnull().sum()"
   ]
  },
  {
   "cell_type": "code",
   "execution_count": 15,
   "id": "649a3b65",
   "metadata": {
    "ExecuteTime": {
     "end_time": "2022-12-22T13:39:52.991306Z",
     "start_time": "2022-12-22T13:39:52.983658Z"
    }
   },
   "outputs": [
    {
     "data": {
      "text/plain": [
       "(185686, 9)"
      ]
     },
     "execution_count": 15,
     "metadata": {},
     "output_type": "execute_result"
    }
   ],
   "source": [
    "# check the shape of the clean dataframe\n",
    "df_tech.shape"
   ]
  },
  {
   "cell_type": "code",
   "execution_count": 16,
   "id": "9873e694",
   "metadata": {
    "ExecuteTime": {
     "end_time": "2022-12-22T13:40:13.479789Z",
     "start_time": "2022-12-22T13:40:13.466340Z"
    }
   },
   "outputs": [
    {
     "data": {
      "text/plain": [
       "Order ID            0\n",
       "Product             0\n",
       "Quantity Ordered    0\n",
       "Price Each          0\n",
       "Date                0\n",
       "Time                0\n",
       "Town                0\n",
       "Zip Code            0\n",
       "State               0\n",
       "dtype: int64"
      ]
     },
     "execution_count": 16,
     "metadata": {},
     "output_type": "execute_result"
    }
   ],
   "source": [
    "#check for missing values\n",
    "df_tech.isnull().sum()"
   ]
  },
  {
   "cell_type": "code",
   "execution_count": 17,
   "id": "073a29b1",
   "metadata": {
    "ExecuteTime": {
     "end_time": "2022-12-22T13:40:37.935938Z",
     "start_time": "2022-12-22T13:40:37.910051Z"
    }
   },
   "outputs": [
    {
     "data": {
      "text/html": [
       "<div>\n",
       "<style scoped>\n",
       "    .dataframe tbody tr th:only-of-type {\n",
       "        vertical-align: middle;\n",
       "    }\n",
       "\n",
       "    .dataframe tbody tr th {\n",
       "        vertical-align: top;\n",
       "    }\n",
       "\n",
       "    .dataframe thead th {\n",
       "        text-align: right;\n",
       "    }\n",
       "</style>\n",
       "<table border=\"1\" class=\"dataframe\">\n",
       "  <thead>\n",
       "    <tr style=\"text-align: right;\">\n",
       "      <th></th>\n",
       "      <th>Order ID</th>\n",
       "      <th>Quantity Ordered</th>\n",
       "      <th>Price Each</th>\n",
       "      <th>Zip Code</th>\n",
       "    </tr>\n",
       "  </thead>\n",
       "  <tbody>\n",
       "    <tr>\n",
       "      <th>count</th>\n",
       "      <td>185686.000000</td>\n",
       "      <td>185686.000000</td>\n",
       "      <td>185686.000000</td>\n",
       "      <td>185686.000000</td>\n",
       "    </tr>\n",
       "    <tr>\n",
       "      <th>mean</th>\n",
       "      <td>230411.376227</td>\n",
       "      <td>1.124544</td>\n",
       "      <td>183.772643</td>\n",
       "      <td>63876.520912</td>\n",
       "    </tr>\n",
       "    <tr>\n",
       "      <th>std</th>\n",
       "      <td>51511.717183</td>\n",
       "      <td>0.443069</td>\n",
       "      <td>333.054160</td>\n",
       "      <td>37776.402046</td>\n",
       "    </tr>\n",
       "    <tr>\n",
       "      <th>min</th>\n",
       "      <td>141234.000000</td>\n",
       "      <td>1.000000</td>\n",
       "      <td>2.000000</td>\n",
       "      <td>2215.000000</td>\n",
       "    </tr>\n",
       "    <tr>\n",
       "      <th>25%</th>\n",
       "      <td>185833.250000</td>\n",
       "      <td>1.000000</td>\n",
       "      <td>11.000000</td>\n",
       "      <td>10001.000000</td>\n",
       "    </tr>\n",
       "    <tr>\n",
       "      <th>50%</th>\n",
       "      <td>230354.500000</td>\n",
       "      <td>1.000000</td>\n",
       "      <td>14.000000</td>\n",
       "      <td>90001.000000</td>\n",
       "    </tr>\n",
       "    <tr>\n",
       "      <th>75%</th>\n",
       "      <td>275028.750000</td>\n",
       "      <td>1.000000</td>\n",
       "      <td>150.000000</td>\n",
       "      <td>94016.000000</td>\n",
       "    </tr>\n",
       "    <tr>\n",
       "      <th>max</th>\n",
       "      <td>319670.000000</td>\n",
       "      <td>9.000000</td>\n",
       "      <td>1700.000000</td>\n",
       "      <td>98101.000000</td>\n",
       "    </tr>\n",
       "  </tbody>\n",
       "</table>\n",
       "</div>"
      ],
      "text/plain": [
       "            Order ID  Quantity Ordered     Price Each       Zip Code\n",
       "count  185686.000000     185686.000000  185686.000000  185686.000000\n",
       "mean   230411.376227          1.124544     183.772643   63876.520912\n",
       "std     51511.717183          0.443069     333.054160   37776.402046\n",
       "min    141234.000000          1.000000       2.000000    2215.000000\n",
       "25%    185833.250000          1.000000      11.000000   10001.000000\n",
       "50%    230354.500000          1.000000      14.000000   90001.000000\n",
       "75%    275028.750000          1.000000     150.000000   94016.000000\n",
       "max    319670.000000          9.000000    1700.000000   98101.000000"
      ]
     },
     "execution_count": 17,
     "metadata": {},
     "output_type": "execute_result"
    }
   ],
   "source": [
    "# check for basic statistics\n",
    "df_tech.describe()"
   ]
  },
  {
   "cell_type": "code",
   "execution_count": 18,
   "id": "3f59348a",
   "metadata": {
    "ExecuteTime": {
     "end_time": "2022-12-22T13:42:17.039368Z",
     "start_time": "2022-12-22T13:42:17.016195Z"
    }
   },
   "outputs": [
    {
     "data": {
      "text/html": [
       "<div>\n",
       "<style scoped>\n",
       "    .dataframe tbody tr th:only-of-type {\n",
       "        vertical-align: middle;\n",
       "    }\n",
       "\n",
       "    .dataframe tbody tr th {\n",
       "        vertical-align: top;\n",
       "    }\n",
       "\n",
       "    .dataframe thead th {\n",
       "        text-align: right;\n",
       "    }\n",
       "</style>\n",
       "<table border=\"1\" class=\"dataframe\">\n",
       "  <thead>\n",
       "    <tr style=\"text-align: right;\">\n",
       "      <th></th>\n",
       "      <th>Order ID</th>\n",
       "      <th>Quantity Ordered</th>\n",
       "      <th>Price Each</th>\n",
       "      <th>Zip Code</th>\n",
       "    </tr>\n",
       "  </thead>\n",
       "  <tbody>\n",
       "    <tr>\n",
       "      <th>count</th>\n",
       "      <td>185686.000000</td>\n",
       "      <td>185686.000000</td>\n",
       "      <td>185686.000000</td>\n",
       "      <td>185686.000000</td>\n",
       "    </tr>\n",
       "    <tr>\n",
       "      <th>mean</th>\n",
       "      <td>230411.376227</td>\n",
       "      <td>1.124544</td>\n",
       "      <td>183.772643</td>\n",
       "      <td>63876.520912</td>\n",
       "    </tr>\n",
       "    <tr>\n",
       "      <th>std</th>\n",
       "      <td>51511.717183</td>\n",
       "      <td>0.443069</td>\n",
       "      <td>333.054160</td>\n",
       "      <td>37776.402046</td>\n",
       "    </tr>\n",
       "    <tr>\n",
       "      <th>min</th>\n",
       "      <td>141234.000000</td>\n",
       "      <td>1.000000</td>\n",
       "      <td>2.000000</td>\n",
       "      <td>2215.000000</td>\n",
       "    </tr>\n",
       "    <tr>\n",
       "      <th>25%</th>\n",
       "      <td>185833.250000</td>\n",
       "      <td>1.000000</td>\n",
       "      <td>11.000000</td>\n",
       "      <td>10001.000000</td>\n",
       "    </tr>\n",
       "    <tr>\n",
       "      <th>50%</th>\n",
       "      <td>230354.500000</td>\n",
       "      <td>1.000000</td>\n",
       "      <td>14.000000</td>\n",
       "      <td>90001.000000</td>\n",
       "    </tr>\n",
       "    <tr>\n",
       "      <th>75%</th>\n",
       "      <td>275028.750000</td>\n",
       "      <td>1.000000</td>\n",
       "      <td>150.000000</td>\n",
       "      <td>94016.000000</td>\n",
       "    </tr>\n",
       "    <tr>\n",
       "      <th>max</th>\n",
       "      <td>319670.000000</td>\n",
       "      <td>9.000000</td>\n",
       "      <td>1700.000000</td>\n",
       "      <td>98101.000000</td>\n",
       "    </tr>\n",
       "  </tbody>\n",
       "</table>\n",
       "</div>"
      ],
      "text/plain": [
       "            Order ID  Quantity Ordered     Price Each       Zip Code\n",
       "count  185686.000000     185686.000000  185686.000000  185686.000000\n",
       "mean   230411.376227          1.124544     183.772643   63876.520912\n",
       "std     51511.717183          0.443069     333.054160   37776.402046\n",
       "min    141234.000000          1.000000       2.000000    2215.000000\n",
       "25%    185833.250000          1.000000      11.000000   10001.000000\n",
       "50%    230354.500000          1.000000      14.000000   90001.000000\n",
       "75%    275028.750000          1.000000     150.000000   94016.000000\n",
       "max    319670.000000          9.000000    1700.000000   98101.000000"
      ]
     },
     "execution_count": 18,
     "metadata": {},
     "output_type": "execute_result"
    }
   ],
   "source": [
    "# check for basic statistics\n",
    "df_tech.describe()"
   ]
  },
  {
   "cell_type": "code",
   "execution_count": 19,
   "id": "03c94288",
   "metadata": {
    "ExecuteTime": {
     "end_time": "2022-12-22T13:42:54.924752Z",
     "start_time": "2022-12-22T13:42:54.907425Z"
    }
   },
   "outputs": [],
   "source": [
    "# check for duplicates\n",
    "df_tech_dups = df_tech[df_tech.duplicated()]"
   ]
  },
  {
   "cell_type": "code",
   "execution_count": 20,
   "id": "d352523a",
   "metadata": {
    "ExecuteTime": {
     "end_time": "2022-12-22T13:43:15.866121Z",
     "start_time": "2022-12-22T13:43:15.854271Z"
    }
   },
   "outputs": [
    {
     "data": {
      "text/html": [
       "<div>\n",
       "<style scoped>\n",
       "    .dataframe tbody tr th:only-of-type {\n",
       "        vertical-align: middle;\n",
       "    }\n",
       "\n",
       "    .dataframe tbody tr th {\n",
       "        vertical-align: top;\n",
       "    }\n",
       "\n",
       "    .dataframe thead th {\n",
       "        text-align: right;\n",
       "    }\n",
       "</style>\n",
       "<table border=\"1\" class=\"dataframe\">\n",
       "  <thead>\n",
       "    <tr style=\"text-align: right;\">\n",
       "      <th></th>\n",
       "      <th>Order ID</th>\n",
       "      <th>Product</th>\n",
       "      <th>Quantity Ordered</th>\n",
       "      <th>Price Each</th>\n",
       "      <th>Date</th>\n",
       "      <th>Time</th>\n",
       "      <th>Town</th>\n",
       "      <th>Zip Code</th>\n",
       "      <th>State</th>\n",
       "    </tr>\n",
       "  </thead>\n",
       "  <tbody>\n",
       "  </tbody>\n",
       "</table>\n",
       "</div>"
      ],
      "text/plain": [
       "Empty DataFrame\n",
       "Columns: [Order ID, Product, Quantity Ordered, Price Each, Date, Time, Town, Zip Code, State]\n",
       "Index: []"
      ]
     },
     "execution_count": 20,
     "metadata": {},
     "output_type": "execute_result"
    }
   ],
   "source": [
    "df_tech_dups"
   ]
  },
  {
   "cell_type": "code",
   "execution_count": 21,
   "id": "df183a96",
   "metadata": {
    "ExecuteTime": {
     "end_time": "2022-12-22T13:44:05.728071Z",
     "start_time": "2022-12-22T13:44:05.667660Z"
    }
   },
   "outputs": [],
   "source": [
    "# check for mixed data type\n",
    "for col in df_tech.columns.tolist():\n",
    "  weird = (df_tech[[col]].applymap(type) != df_tech[[col]].iloc[0].apply(type)).any(axis = 1)\n",
    "  if len (df_tech[weird]) > 0:\n",
    "    print (col)"
   ]
  },
  {
   "cell_type": "code",
   "execution_count": 22,
   "id": "4cd87c36",
   "metadata": {
    "ExecuteTime": {
     "end_time": "2022-12-22T13:44:27.992313Z",
     "start_time": "2022-12-22T13:44:27.986566Z"
    }
   },
   "outputs": [
    {
     "data": {
      "text/plain": [
       "(185686, 9)"
      ]
     },
     "execution_count": 22,
     "metadata": {},
     "output_type": "execute_result"
    }
   ],
   "source": [
    "# check for the shape of the cleaned dataframe\n",
    "df_tech.shape"
   ]
  },
  {
   "cell_type": "markdown",
   "id": "2ff9a5b9",
   "metadata": {},
   "source": [
    "### Export clean dataframe"
   ]
  },
  {
   "cell_type": "code",
   "execution_count": 24,
   "id": "9216883a",
   "metadata": {
    "ExecuteTime": {
     "end_time": "2022-12-22T13:45:58.614843Z",
     "start_time": "2022-12-22T13:45:58.553284Z"
    }
   },
   "outputs": [],
   "source": [
    "df_tech.to_csv(os.path.join(path, '02 Data', 'Prepared Data', 'tech_data_cleaned.csv'))"
   ]
  },
  {
   "cell_type": "code",
   "execution_count": null,
   "id": "6b62bf78",
   "metadata": {},
   "outputs": [],
   "source": []
  }
 ],
 "metadata": {
  "kernelspec": {
   "display_name": "Python 3 (ipykernel)",
   "language": "python",
   "name": "python3"
  },
  "language_info": {
   "codemirror_mode": {
    "name": "ipython",
    "version": 3
   },
   "file_extension": ".py",
   "mimetype": "text/x-python",
   "name": "python",
   "nbconvert_exporter": "python",
   "pygments_lexer": "ipython3",
   "version": "3.9.12"
  }
 },
 "nbformat": 4,
 "nbformat_minor": 5
}
